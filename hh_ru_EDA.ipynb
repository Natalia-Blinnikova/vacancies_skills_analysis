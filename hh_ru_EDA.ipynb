{
  "nbformat": 4,
  "nbformat_minor": 0,
  "metadata": {
    "kernelspec": {
      "display_name": "Python 3",
      "language": "python",
      "name": "python3"
    },
    "language_info": {
      "codemirror_mode": {
        "name": "ipython",
        "version": 3
      },
      "file_extension": ".py",
      "mimetype": "text/x-python",
      "name": "python",
      "nbconvert_exporter": "python",
      "pygments_lexer": "ipython3",
      "version": "3.8.5"
    },
    "colab": {
      "name": "hh.ru_EDA.ipynb",
      "provenance": [],
      "include_colab_link": true
    }
  },
  "cells": [
    {
      "cell_type": "markdown",
      "metadata": {
        "id": "view-in-github",
        "colab_type": "text"
      },
      "source": [
        "<a href=\"https://colab.research.google.com/github/Natalia-Blinnikova/vacancies_skills_analysis/blob/main/hh_ru_EDA.ipynb\" target=\"_parent\"><img src=\"https://colab.research.google.com/assets/colab-badge.svg\" alt=\"Open In Colab\"/></a>"
      ]
    },
    {
      "cell_type": "code",
      "metadata": {
        "id": "nsTpdNIy47CP"
      },
      "source": [
        "import pandas as pd \n",
        "import seaborn as sns\n",
        "import matplotlib.pyplot as plt \n",
        "import numpy as np\n",
        "import re "
      ],
      "execution_count": null,
      "outputs": []
    },
    {
      "cell_type": "code",
      "metadata": {
        "scrolled": true,
        "id": "hsOhrqk947CT",
        "outputId": "101117a0-a90d-4713-8ea4-b2a7523657a5"
      },
      "source": [
        "df = pd.read_csv('databaseHH.csv', sep=';')\n",
        "df.describe()"
      ],
      "execution_count": null,
      "outputs": [
        {
          "output_type": "execute_result",
          "data": {
            "text/html": [
              "<div>\n",
              "<style scoped>\n",
              "    .dataframe tbody tr th:only-of-type {\n",
              "        vertical-align: middle;\n",
              "    }\n",
              "\n",
              "    .dataframe tbody tr th {\n",
              "        vertical-align: top;\n",
              "    }\n",
              "\n",
              "    .dataframe thead th {\n",
              "        text-align: right;\n",
              "    }\n",
              "</style>\n",
              "<table border=\"1\" class=\"dataframe\">\n",
              "  <thead>\n",
              "    <tr style=\"text-align: right;\">\n",
              "      <th></th>\n",
              "      <th>name</th>\n",
              "      <th>experience</th>\n",
              "      <th>schedule</th>\n",
              "      <th>employment</th>\n",
              "      <th>employer</th>\n",
              "      <th>published</th>\n",
              "      <th>salary_from</th>\n",
              "      <th>salary_to</th>\n",
              "      <th>description</th>\n",
              "      <th>key_skills</th>\n",
              "    </tr>\n",
              "  </thead>\n",
              "  <tbody>\n",
              "    <tr>\n",
              "      <th>count</th>\n",
              "      <td>1038</td>\n",
              "      <td>1035</td>\n",
              "      <td>1035</td>\n",
              "      <td>1035</td>\n",
              "      <td>1035</td>\n",
              "      <td>1035</td>\n",
              "      <td>1035</td>\n",
              "      <td>1035</td>\n",
              "      <td>1035</td>\n",
              "      <td>760</td>\n",
              "    </tr>\n",
              "    <tr>\n",
              "      <th>unique</th>\n",
              "      <td>755</td>\n",
              "      <td>4</td>\n",
              "      <td>5</td>\n",
              "      <td>3</td>\n",
              "      <td>555</td>\n",
              "      <td>31</td>\n",
              "      <td>64</td>\n",
              "      <td>53</td>\n",
              "      <td>995</td>\n",
              "      <td>664</td>\n",
              "    </tr>\n",
              "    <tr>\n",
              "      <th>top</th>\n",
              "      <td>Учитель начальных классов</td>\n",
              "      <td>between1And3</td>\n",
              "      <td>fullDay</td>\n",
              "      <td>full</td>\n",
              "      <td>Центр онлайн-обучения Нетология-групп</td>\n",
              "      <td>19.04.2021</td>\n",
              "      <td>None</td>\n",
              "      <td>None</td>\n",
              "      <td>Привет!Можешь ли ты представить свое будущее б...</td>\n",
              "      <td>Преподаватель,Обучение,Дистанционное обучение,...</td>\n",
              "    </tr>\n",
              "    <tr>\n",
              "      <th>freq</th>\n",
              "      <td>38</td>\n",
              "      <td>500</td>\n",
              "      <td>567</td>\n",
              "      <td>523</td>\n",
              "      <td>35</td>\n",
              "      <td>120</td>\n",
              "      <td>460</td>\n",
              "      <td>599</td>\n",
              "      <td>15</td>\n",
              "      <td>14</td>\n",
              "    </tr>\n",
              "  </tbody>\n",
              "</table>\n",
              "</div>"
            ],
            "text/plain": [
              "                             name    experience schedule employment  \\\n",
              "count                        1038          1035     1035       1035   \n",
              "unique                        755             4        5          3   \n",
              "top     Учитель начальных классов  between1And3  fullDay       full   \n",
              "freq                           38           500      567        523   \n",
              "\n",
              "                                     employer   published salary_from  \\\n",
              "count                                    1035        1035        1035   \n",
              "unique                                    555          31          64   \n",
              "top     Центр онлайн-обучения Нетология-групп  19.04.2021        None   \n",
              "freq                                       35         120         460   \n",
              "\n",
              "       salary_to                                        description  \\\n",
              "count       1035                                               1035   \n",
              "unique        53                                                995   \n",
              "top         None  Привет!Можешь ли ты представить свое будущее б...   \n",
              "freq         599                                                 15   \n",
              "\n",
              "                                               key_skills  \n",
              "count                                                 760  \n",
              "unique                                                664  \n",
              "top     Преподаватель,Обучение,Дистанционное обучение,...  \n",
              "freq                                                   14  "
            ]
          },
          "metadata": {
            "tags": []
          },
          "execution_count": 2
        }
      ]
    },
    {
      "cell_type": "code",
      "metadata": {
        "scrolled": true,
        "id": "_fdPKDIH47CV",
        "outputId": "7b80e66b-28b7-433c-9cb9-3f92b16affc7"
      },
      "source": [
        "df.head()"
      ],
      "execution_count": null,
      "outputs": [
        {
          "output_type": "execute_result",
          "data": {
            "text/html": [
              "<div>\n",
              "<style scoped>\n",
              "    .dataframe tbody tr th:only-of-type {\n",
              "        vertical-align: middle;\n",
              "    }\n",
              "\n",
              "    .dataframe tbody tr th {\n",
              "        vertical-align: top;\n",
              "    }\n",
              "\n",
              "    .dataframe thead th {\n",
              "        text-align: right;\n",
              "    }\n",
              "</style>\n",
              "<table border=\"1\" class=\"dataframe\">\n",
              "  <thead>\n",
              "    <tr style=\"text-align: right;\">\n",
              "      <th></th>\n",
              "      <th>name</th>\n",
              "      <th>experience</th>\n",
              "      <th>schedule</th>\n",
              "      <th>employment</th>\n",
              "      <th>employer</th>\n",
              "      <th>published</th>\n",
              "      <th>salary_from</th>\n",
              "      <th>salary_to</th>\n",
              "      <th>description</th>\n",
              "      <th>key_skills</th>\n",
              "    </tr>\n",
              "  </thead>\n",
              "  <tbody>\n",
              "    <tr>\n",
              "      <th>0</th>\n",
              "      <td>Преподаватель психологии</td>\n",
              "      <td>between1And3</td>\n",
              "      <td>flexible</td>\n",
              "      <td>project</td>\n",
              "      <td>Ассоциация Разработчиков в Сфере Инноваций</td>\n",
              "      <td>19.04.2021</td>\n",
              "      <td>50000</td>\n",
              "      <td>100000</td>\n",
              "      <td>Требуется автор и спикер курса «Психология и с...</td>\n",
              "      <td>Возрастная психология,Детская психология,Клини...</td>\n",
              "    </tr>\n",
              "    <tr>\n",
              "      <th>1</th>\n",
              "      <td>Преподаватель в онлайн-школу</td>\n",
              "      <td>between1And3</td>\n",
              "      <td>remote</td>\n",
              "      <td>part</td>\n",
              "      <td>Айтигенио</td>\n",
              "      <td>18.04.2021</td>\n",
              "      <td>None</td>\n",
              "      <td>80000</td>\n",
              "      <td>Преподаватель в онлайн-школу для детей Айтиген...</td>\n",
              "      <td>Преподаватель,Работа с детьми</td>\n",
              "    </tr>\n",
              "    <tr>\n",
              "      <th>2</th>\n",
              "      <td>Преподаватель по химии</td>\n",
              "      <td>between3And6</td>\n",
              "      <td>fullDay</td>\n",
              "      <td>full</td>\n",
              "      <td>Центр онлайн-обучения Нетология-групп</td>\n",
              "      <td>19.04.2021</td>\n",
              "      <td>110000</td>\n",
              "      <td>140000</td>\n",
              "      <td>Привет! Мы ищем преподавателя по химии в «Фокс...</td>\n",
              "      <td>Преподаватель,Обучение,Дистанционное обучение,...</td>\n",
              "    </tr>\n",
              "    <tr>\n",
              "      <th>3</th>\n",
              "      <td>Преподаватель частной музыкальной школы</td>\n",
              "      <td>between1And3</td>\n",
              "      <td>flexible</td>\n",
              "      <td>part</td>\n",
              "      <td>Ульянов Максим Александрович</td>\n",
              "      <td>19.04.2021</td>\n",
              "      <td>44000</td>\n",
              "      <td>120000</td>\n",
              "      <td>Добрый день! Музыкальная Школа Максима Ульянов...</td>\n",
              "      <td>Преподаватель,Обучение и развитие,музыкант,гит...</td>\n",
              "    </tr>\n",
              "    <tr>\n",
              "      <th>4</th>\n",
              "      <td>Преподаватель английского язык в языковую школ...</td>\n",
              "      <td>noExperience</td>\n",
              "      <td>flexible</td>\n",
              "      <td>full</td>\n",
              "      <td>Школа иностранных языков Friends</td>\n",
              "      <td>19.04.2021</td>\n",
              "      <td>None</td>\n",
              "      <td>None</td>\n",
              "      <td>Пожалуйста прочтите вакансию до конца!!! Мы – ...</td>\n",
              "      <td>Креативность,Грамотная речь,Обучение и развити...</td>\n",
              "    </tr>\n",
              "  </tbody>\n",
              "</table>\n",
              "</div>"
            ],
            "text/plain": [
              "                                                name    experience  schedule  \\\n",
              "0                           Преподаватель психологии  between1And3  flexible   \n",
              "1                       Преподаватель в онлайн-школу  between1And3    remote   \n",
              "2                             Преподаватель по химии  between3And6   fullDay   \n",
              "3            Преподаватель частной музыкальной школы  between1And3  flexible   \n",
              "4  Преподаватель английского язык в языковую школ...  noExperience  flexible   \n",
              "\n",
              "  employment                                    employer   published  \\\n",
              "0    project  Ассоциация Разработчиков в Сфере Инноваций  19.04.2021   \n",
              "1       part                                   Айтигенио  18.04.2021   \n",
              "2       full       Центр онлайн-обучения Нетология-групп  19.04.2021   \n",
              "3       part                Ульянов Максим Александрович  19.04.2021   \n",
              "4       full            Школа иностранных языков Friends  19.04.2021   \n",
              "\n",
              "  salary_from salary_to                                        description  \\\n",
              "0       50000    100000  Требуется автор и спикер курса «Психология и с...   \n",
              "1        None     80000  Преподаватель в онлайн-школу для детей Айтиген...   \n",
              "2      110000    140000  Привет! Мы ищем преподавателя по химии в «Фокс...   \n",
              "3       44000    120000  Добрый день! Музыкальная Школа Максима Ульянов...   \n",
              "4        None      None  Пожалуйста прочтите вакансию до конца!!! Мы – ...   \n",
              "\n",
              "                                          key_skills  \n",
              "0  Возрастная психология,Детская психология,Клини...  \n",
              "1                      Преподаватель,Работа с детьми  \n",
              "2  Преподаватель,Обучение,Дистанционное обучение,...  \n",
              "3  Преподаватель,Обучение и развитие,музыкант,гит...  \n",
              "4  Креативность,Грамотная речь,Обучение и развити...  "
            ]
          },
          "metadata": {
            "tags": []
          },
          "execution_count": 4
        }
      ]
    },
    {
      "cell_type": "markdown",
      "metadata": {
        "id": "87Gjr--f47CV"
      },
      "source": [
        "Сначала я выбрала работодателей, которые опубликовали на хх.ру больше 5 вакансий, и сделала список из них, чтобы потом заблочить основной датасет только по этим работодателям. Отсортировала их. "
      ]
    },
    {
      "cell_type": "code",
      "metadata": {
        "scrolled": true,
        "id": "mZtDHsUc47CW",
        "outputId": "c7fb1ff6-7ee8-44ab-95b8-ac0906e40b75"
      },
      "source": [
        "emploers = df.loc[:, 'employer']\n",
        "datalocked = df.groupby('employer').agg('count')\n",
        "most_common_employer = datalocked[datalocked.name > 5].sort_values(by='name', ascending=False)\n",
        "common_employer = list(most_common_employer.index)\n",
        "len(common_employer)"
      ],
      "execution_count": null,
      "outputs": [
        {
          "output_type": "execute_result",
          "data": {
            "text/plain": [
              "25"
            ]
          },
          "metadata": {
            "tags": []
          },
          "execution_count": 8
        }
      ]
    },
    {
      "cell_type": "code",
      "metadata": {
        "id": "Hk5YtpGg47CW",
        "outputId": "ebd71193-a809-444d-f2e1-11f52bb561f1"
      },
      "source": [
        "df.loc[df['employer'].isin(common_employer)].groupby('employer').agg('count').sum(axis=0)"
      ],
      "execution_count": null,
      "outputs": [
        {
          "output_type": "execute_result",
          "data": {
            "text/plain": [
              "name           309\n",
              "experience     309\n",
              "schedule       309\n",
              "employment     309\n",
              "published      309\n",
              "salary_from    309\n",
              "salary_to      309\n",
              "description    309\n",
              "key_skills     211\n",
              "dtype: int64"
            ]
          },
          "metadata": {
            "tags": []
          },
          "execution_count": 7
        }
      ]
    },
    {
      "cell_type": "code",
      "metadata": {
        "scrolled": false,
        "id": "rrHfPi_W47CW",
        "outputId": "a49d35ba-57c4-4838-b958-ddb9cdf8a309"
      },
      "source": [
        "df.groupby('experience').count()"
      ],
      "execution_count": null,
      "outputs": [
        {
          "output_type": "execute_result",
          "data": {
            "text/html": [
              "<div>\n",
              "<style scoped>\n",
              "    .dataframe tbody tr th:only-of-type {\n",
              "        vertical-align: middle;\n",
              "    }\n",
              "\n",
              "    .dataframe tbody tr th {\n",
              "        vertical-align: top;\n",
              "    }\n",
              "\n",
              "    .dataframe thead th {\n",
              "        text-align: right;\n",
              "    }\n",
              "</style>\n",
              "<table border=\"1\" class=\"dataframe\">\n",
              "  <thead>\n",
              "    <tr style=\"text-align: right;\">\n",
              "      <th></th>\n",
              "      <th>name</th>\n",
              "      <th>schedule</th>\n",
              "      <th>employment</th>\n",
              "      <th>employer</th>\n",
              "      <th>published</th>\n",
              "      <th>salary_from</th>\n",
              "      <th>salary_to</th>\n",
              "      <th>description</th>\n",
              "      <th>key_skills</th>\n",
              "    </tr>\n",
              "    <tr>\n",
              "      <th>experience</th>\n",
              "      <th></th>\n",
              "      <th></th>\n",
              "      <th></th>\n",
              "      <th></th>\n",
              "      <th></th>\n",
              "      <th></th>\n",
              "      <th></th>\n",
              "      <th></th>\n",
              "      <th></th>\n",
              "    </tr>\n",
              "  </thead>\n",
              "  <tbody>\n",
              "    <tr>\n",
              "      <th>between1And3</th>\n",
              "      <td>500</td>\n",
              "      <td>500</td>\n",
              "      <td>500</td>\n",
              "      <td>500</td>\n",
              "      <td>500</td>\n",
              "      <td>500</td>\n",
              "      <td>500</td>\n",
              "      <td>500</td>\n",
              "      <td>373</td>\n",
              "    </tr>\n",
              "    <tr>\n",
              "      <th>between3And6</th>\n",
              "      <td>331</td>\n",
              "      <td>331</td>\n",
              "      <td>331</td>\n",
              "      <td>331</td>\n",
              "      <td>331</td>\n",
              "      <td>331</td>\n",
              "      <td>331</td>\n",
              "      <td>331</td>\n",
              "      <td>244</td>\n",
              "    </tr>\n",
              "    <tr>\n",
              "      <th>moreThan6</th>\n",
              "      <td>58</td>\n",
              "      <td>58</td>\n",
              "      <td>58</td>\n",
              "      <td>58</td>\n",
              "      <td>58</td>\n",
              "      <td>58</td>\n",
              "      <td>58</td>\n",
              "      <td>58</td>\n",
              "      <td>42</td>\n",
              "    </tr>\n",
              "    <tr>\n",
              "      <th>noExperience</th>\n",
              "      <td>146</td>\n",
              "      <td>146</td>\n",
              "      <td>146</td>\n",
              "      <td>146</td>\n",
              "      <td>146</td>\n",
              "      <td>146</td>\n",
              "      <td>146</td>\n",
              "      <td>146</td>\n",
              "      <td>101</td>\n",
              "    </tr>\n",
              "  </tbody>\n",
              "</table>\n",
              "</div>"
            ],
            "text/plain": [
              "              name  schedule  employment  employer  published  salary_from  \\\n",
              "experience                                                                   \n",
              "between1And3   500       500         500       500        500          500   \n",
              "between3And6   331       331         331       331        331          331   \n",
              "moreThan6       58        58          58        58         58           58   \n",
              "noExperience   146       146         146       146        146          146   \n",
              "\n",
              "              salary_to  description  key_skills  \n",
              "experience                                        \n",
              "between1And3        500          500         373  \n",
              "between3And6        331          331         244  \n",
              "moreThan6            58           58          42  \n",
              "noExperience        146          146         101  "
            ]
          },
          "metadata": {
            "tags": []
          },
          "execution_count": 29
        }
      ]
    },
    {
      "cell_type": "markdown",
      "metadata": {
        "id": "6_vchD2b47CX"
      },
      "source": [
        "Здесь я сначала создала датасет с самыми активными работодателями и навыками, который они требуют. \n",
        "Потом создала один большой список по всем работодателям. Но нужно было проанализировать каждого работодателя отдельно. Поэтому из этого списка я брала по одному значению (набор скилов для какого-либо одного работодателя), и все их скинула в один список, чтобы посчитать частоту использования навыков. Из этого списка я сделала датасет, сгруппировала и посчитала. \n",
        "ВЫВОДЫ: в топе из тех, которым можно обучить: дистанционной обучение, командная работа, создание и проведение презентаций, деловая коммуникация (межличностное общение тоже), языки программирования. \n",
        "\n"
      ]
    },
    {
      "cell_type": "code",
      "metadata": {
        "scrolled": true,
        "id": "kq6cOuns47CX",
        "outputId": "587f5e93-ba03-455f-b892-7231ede9c9bb"
      },
      "source": [
        "df_common_employers = df.loc[df['employer'].isin(common_employer)]['key_skills'].dropna()\n",
        "common_emp_skills = list(df_common_employers.values)\n",
        "common_skills = []\n",
        "for item in common_emp_skills:\n",
        "    itemlst = item.split(',')\n",
        "    for skill in itemlst:\n",
        "        common_skills.append(skill)\n",
        "df_common_emp_skills = pd.DataFrame(common_skills)\n",
        "df_common_emp_skills.groupby(0)[0].count().sort_values(ascending=False).head(50)"
      ],
      "execution_count": null,
      "outputs": [
        {
          "output_type": "execute_result",
          "data": {
            "text/plain": [
              "0\n",
              "Обучение                               95\n",
              "Преподаватель                          91\n",
              "Обучение и развитие                    69\n",
              "Грамотная речь                         54\n",
              "Дистанционное обучение                 52\n",
              "Работа в команде                       50\n",
              "Организация учебного процесса          46\n",
              "Грамотность                            37\n",
              "Пользователь ПК                        32\n",
              "Английский язык                        31\n",
              "Организаторские навыки                 25\n",
              "MS PowerPoint                          18\n",
              "Индивидуальное обучение                13\n",
              "Деловая коммуникация                   12\n",
              "Python                                 10\n",
              "Креативность                           10\n",
              "Умение работать в команде              10\n",
              "Windows Xp                              9\n",
              "Общая психология                        9\n",
              "Работа с большим объемом информации     8\n",
              "Преподавание                            6\n",
              "MS Paint                                6\n",
              "Проведение презентаций                  6\n",
              "Навыки межличностного общения           6\n",
              "SQL                                     6\n",
              "C#                                      5\n",
              "Деловое общение                         5\n",
              "Творческое мышление                     5\n",
              "MS Outlook                              5\n",
              "ООП                                     5\n",
              "Организация мероприятий                 5\n",
              "Групповое обучение                      4\n",
              "Репетитор                               4\n",
              "Ориентация на результат                 4\n",
              "Веб-программирование                    4\n",
              "Учитель                                 4\n",
              "ФСТЭК                                   4\n",
              "Детская психология                      4\n",
              "Математика                              4\n",
              "Linux                                   3\n",
              "JavaScript                              3\n",
              "Разработка концепции                    3\n",
              "Google Analytics                        3\n",
              "Немецкий язык                           3\n",
              "Электронная почта                       3\n",
              "Многозадачность                         3\n",
              "Базы данных                             3\n",
              "Бизнес-анализ                           3\n",
              "PostgreSQL                              3\n",
              "ТЗИ                                     3\n",
              "Name: 0, dtype: int64"
            ]
          },
          "metadata": {
            "tags": []
          },
          "execution_count": 54
        }
      ]
    },
    {
      "cell_type": "markdown",
      "metadata": {
        "id": "IuvE4p4I47CY"
      },
      "source": [
        "То же самое сделала с общим датасетом. \n",
        "Какие скилы в топах: работа в команде, английский язык, пользователь ПК, организаторский навыки, дистанционное обучение, детская (и общая) психология, создание и проведение презентаций, деловая коммуникация (межличностное общение тоже, коммуникабельность), креативность (творческое мышление), индивидуальное обучение, групповое обучение, программирование, работа с большими объемами информации, стрессоустойчивость(и доброжелательность). "
      ]
    },
    {
      "cell_type": "code",
      "metadata": {
        "scrolled": true,
        "id": "GrxQ3DO947CY",
        "outputId": "75ebb4c0-ef20-45b5-caa5-fa2d3aa51a99"
      },
      "source": [
        "df_common_employers = df.loc[:, 'key_skills'].dropna()\n",
        "common_emp_skills = list(df_common_employers.values)\n",
        "common_skills = []\n",
        "for item in common_emp_skills:\n",
        "    itemlst = item.split(',')\n",
        "    for skill in itemlst:\n",
        "        common_skills.append(skill)\n",
        "df_common_emp_skills = pd.DataFrame(common_skills)\n",
        "df_common_emp_skills.groupby(0)[0].count().sort_values(ascending=False).head(50)"
      ],
      "execution_count": null,
      "outputs": [
        {
          "output_type": "execute_result",
          "data": {
            "text/plain": [
              "0\n",
              "Преподаватель                          284\n",
              "Грамотная речь                         269\n",
              "Обучение и развитие                    240\n",
              "Обучение                               210\n",
              "Работа в команде                       182\n",
              "Английский язык                        162\n",
              "Грамотность                            139\n",
              "Организация учебного процесса          132\n",
              "Пользователь ПК                        124\n",
              "Организаторские навыки                 107\n",
              "Дистанционное обучение                  87\n",
              "Детская психология                      69\n",
              "Навыки межличностного общения           68\n",
              "Креативность                            59\n",
              "Общая психология                        58\n",
              "Творческое мышление                     55\n",
              "Умение работать в команде               45\n",
              "MS PowerPoint                           41\n",
              "Деловая коммуникация                    37\n",
              "Индивидуальное обучение                 35\n",
              "Групповое обучение                      33\n",
              "Ответственность                         31\n",
              "Возрастная психология                   31\n",
              "Ориентация на результат                 30\n",
              "Коммуникабельность                      28\n",
              "Проведение презентаций                  26\n",
              "Организация мероприятий                 24\n",
              "Python                                  24\n",
              "Деловое общение                         22\n",
              "Тренинги                                21\n",
              "Навыки презентации                      20\n",
              "Умение работать в коллективе            19\n",
              "Работа с людьми                         19\n",
              "Точность и внимательность к деталям     18\n",
              "Работа с большим объемом информации     18\n",
              "JavaScript                              17\n",
              "Подготовка презентаций                  16\n",
              "Консультирование                        16\n",
              "Психология                              15\n",
              "Знание иностранных языков               14\n",
              "Публичные выступления                   14\n",
              "Немецкий язык                           14\n",
              "C++                                     14\n",
              "Преподавание                            12\n",
              "Веб-программирование                    11\n",
              "Стрессоустойчивость                     11\n",
              "HTML                                    11\n",
              "Доброжелательность                      11\n",
              "Adobe Photoshop                         11\n",
              "Вокал                                   11\n",
              "Name: 0, dtype: int64"
            ]
          },
          "metadata": {
            "tags": []
          },
          "execution_count": 56
        }
      ]
    },
    {
      "cell_type": "code",
      "metadata": {
        "scrolled": true,
        "id": "R8ZG6cXl47CY",
        "outputId": "c525dcb6-f269-4f02-b425-388850bfa227"
      },
      "source": [
        "salary=df\n",
        "\n",
        "salary = salary.dropna()\n",
        "salary.loc[salary['salary_to'] == 'None', 'salary_to'] = 1 #здесь я сначала блокирую строчки, где зарплата=none и выбираю столбец\n",
        "#salary, и везде в этой серии (которая все еще часть датасета) проставляю 1\n",
        "indexNone = salary.loc[salary['salary_to'] == 1].index \n",
        "salary.drop(indexNone, inplace=True) #здесь я убираю все строчки, где зарплата не указана (где она теперь 1)\n",
        "salary = salary.astype({\"salary_to\": int}) #здесь все значения зарплаты преобразую в интеджер\n",
        "fig, ax = plt.subplots(figsize=(12,6))\n",
        "ax = sns.histplot(data=salary, x='salary_to', bins=50)\n",
        "ax.set_xticks(list(range(10000, 500000, 20000)))\n",
        "plt.xticks(rotation=45)\n",
        "ax.set_title(\"Количество вакансий с разными зарплатами\")\n",
        "plt.show"
      ],
      "execution_count": null,
      "outputs": [
        {
          "output_type": "stream",
          "text": [
            "C:\\Users\\ns.blinnikova\\Anaconda3\\lib\\site-packages\\pandas\\core\\indexing.py:670: SettingWithCopyWarning: \n",
            "A value is trying to be set on a copy of a slice from a DataFrame\n",
            "\n",
            "See the caveats in the documentation: https://pandas.pydata.org/pandas-docs/stable/user_guide/indexing.html#returning-a-view-versus-a-copy\n",
            "  iloc._setitem_with_indexer(indexer, value)\n",
            "<ipython-input-9-306c9a4d55cb>:4: SettingWithCopyWarning: \n",
            "A value is trying to be set on a copy of a slice from a DataFrame\n",
            "\n",
            "See the caveats in the documentation: https://pandas.pydata.org/pandas-docs/stable/user_guide/indexing.html#returning-a-view-versus-a-copy\n",
            "  salary.loc[salary['salary_to'] == 'None', 'salary_to'] = 1 #здесь я сначала блокирую строчки, где зарплата=none и выбираю столбец\n",
            "C:\\Users\\ns.blinnikova\\Anaconda3\\lib\\site-packages\\pandas\\core\\frame.py:4163: SettingWithCopyWarning: \n",
            "A value is trying to be set on a copy of a slice from a DataFrame\n",
            "\n",
            "See the caveats in the documentation: https://pandas.pydata.org/pandas-docs/stable/user_guide/indexing.html#returning-a-view-versus-a-copy\n",
            "  return super().drop(\n"
          ],
          "name": "stderr"
        },
        {
          "output_type": "execute_result",
          "data": {
            "text/plain": [
              "<function matplotlib.pyplot.show(close=None, block=None)>"
            ]
          },
          "metadata": {
            "tags": []
          },
          "execution_count": 9
        },
        {
          "output_type": "display_data",
          "data": {
            "image/png": "[encoded data removed]",
            "text/plain": [
              "<Figure size 864x432 with 1 Axes>"
            ]
          },
          "metadata": {
            "tags": [],
            "needs_background": "light"
          }
        }
      ]
    },
    {
      "cell_type": "markdown",
      "metadata": {
        "id": "-CC_P_dE47CZ"
      },
      "source": [
        "ВЫВОДЫ. Получается, что в общем было проанализировано 760 вакансий, наиболее частые зарплаты - от 30000 до 90000, в самом топе от 50000 до 70000"
      ]
    },
    {
      "cell_type": "code",
      "metadata": {
        "id": "Y5s6KvnP47CZ",
        "outputId": "a5bc36a4-14ca-4e6d-dbe0-0e7335febb7a"
      },
      "source": [
        "salary.info() #смотрю, сколько вакансий было проанализировано для поиска спекта зарплат. "
      ],
      "execution_count": null,
      "outputs": [
        {
          "output_type": "stream",
          "text": [
            "<class 'pandas.core.frame.DataFrame'>\n",
            "Int64Index: 760 entries, 0 to 1039\n",
            "Data columns (total 10 columns):\n",
            " #   Column       Non-Null Count  Dtype \n",
            "---  ------       --------------  ----- \n",
            " 0   name         760 non-null    object\n",
            " 1   experience   760 non-null    object\n",
            " 2   schedule     760 non-null    object\n",
            " 3   employment   760 non-null    object\n",
            " 4   employer     760 non-null    object\n",
            " 5   published    760 non-null    object\n",
            " 6   salary_from  760 non-null    object\n",
            " 7   salary_to    760 non-null    object\n",
            " 8   description  760 non-null    object\n",
            " 9   key_skills   760 non-null    object\n",
            "dtypes: object(10)\n",
            "memory usage: 65.3+ KB\n"
          ],
          "name": "stdout"
        }
      ]
    },
    {
      "cell_type": "code",
      "metadata": {
        "scrolled": false,
        "id": "nHYyD7dK47CZ",
        "outputId": "9ad2f3e2-5abe-4fae-8ddc-1a17090c0e32"
      },
      "source": [
        "df.groupby('schedule').count()"
      ],
      "execution_count": null,
      "outputs": [
        {
          "output_type": "execute_result",
          "data": {
            "text/html": [
              "<div>\n",
              "<style scoped>\n",
              "    .dataframe tbody tr th:only-of-type {\n",
              "        vertical-align: middle;\n",
              "    }\n",
              "\n",
              "    .dataframe tbody tr th {\n",
              "        vertical-align: top;\n",
              "    }\n",
              "\n",
              "    .dataframe thead th {\n",
              "        text-align: right;\n",
              "    }\n",
              "</style>\n",
              "<table border=\"1\" class=\"dataframe\">\n",
              "  <thead>\n",
              "    <tr style=\"text-align: right;\">\n",
              "      <th></th>\n",
              "      <th>name</th>\n",
              "      <th>experience</th>\n",
              "      <th>employment</th>\n",
              "      <th>employer</th>\n",
              "      <th>published</th>\n",
              "      <th>salary_from</th>\n",
              "      <th>salary_to</th>\n",
              "      <th>description</th>\n",
              "      <th>key_skills</th>\n",
              "    </tr>\n",
              "    <tr>\n",
              "      <th>schedule</th>\n",
              "      <th></th>\n",
              "      <th></th>\n",
              "      <th></th>\n",
              "      <th></th>\n",
              "      <th></th>\n",
              "      <th></th>\n",
              "      <th></th>\n",
              "      <th></th>\n",
              "      <th></th>\n",
              "    </tr>\n",
              "  </thead>\n",
              "  <tbody>\n",
              "    <tr>\n",
              "      <th>flexible</th>\n",
              "      <td>205</td>\n",
              "      <td>205</td>\n",
              "      <td>205</td>\n",
              "      <td>205</td>\n",
              "      <td>205</td>\n",
              "      <td>205</td>\n",
              "      <td>205</td>\n",
              "      <td>205</td>\n",
              "      <td>155</td>\n",
              "    </tr>\n",
              "    <tr>\n",
              "      <th>flyInFlyOut</th>\n",
              "      <td>3</td>\n",
              "      <td>3</td>\n",
              "      <td>3</td>\n",
              "      <td>3</td>\n",
              "      <td>3</td>\n",
              "      <td>3</td>\n",
              "      <td>3</td>\n",
              "      <td>3</td>\n",
              "      <td>3</td>\n",
              "    </tr>\n",
              "    <tr>\n",
              "      <th>fullDay</th>\n",
              "      <td>567</td>\n",
              "      <td>567</td>\n",
              "      <td>567</td>\n",
              "      <td>567</td>\n",
              "      <td>567</td>\n",
              "      <td>567</td>\n",
              "      <td>567</td>\n",
              "      <td>567</td>\n",
              "      <td>396</td>\n",
              "    </tr>\n",
              "    <tr>\n",
              "      <th>remote</th>\n",
              "      <td>225</td>\n",
              "      <td>225</td>\n",
              "      <td>225</td>\n",
              "      <td>225</td>\n",
              "      <td>225</td>\n",
              "      <td>225</td>\n",
              "      <td>225</td>\n",
              "      <td>225</td>\n",
              "      <td>184</td>\n",
              "    </tr>\n",
              "    <tr>\n",
              "      <th>shift</th>\n",
              "      <td>35</td>\n",
              "      <td>35</td>\n",
              "      <td>35</td>\n",
              "      <td>35</td>\n",
              "      <td>35</td>\n",
              "      <td>35</td>\n",
              "      <td>35</td>\n",
              "      <td>35</td>\n",
              "      <td>22</td>\n",
              "    </tr>\n",
              "  </tbody>\n",
              "</table>\n",
              "</div>"
            ],
            "text/plain": [
              "             name  experience  employment  employer  published  salary_from  \\\n",
              "schedule                                                                      \n",
              "flexible      205         205         205       205        205          205   \n",
              "flyInFlyOut     3           3           3         3          3            3   \n",
              "fullDay       567         567         567       567        567          567   \n",
              "remote        225         225         225       225        225          225   \n",
              "shift          35          35          35        35         35           35   \n",
              "\n",
              "             salary_to  description  key_skills  \n",
              "schedule                                         \n",
              "flexible           205          205         155  \n",
              "flyInFlyOut          3            3           3  \n",
              "fullDay            567          567         396  \n",
              "remote             225          225         184  \n",
              "shift               35           35          22  "
            ]
          },
          "metadata": {
            "tags": []
          },
          "execution_count": 122
        }
      ]
    },
    {
      "cell_type": "code",
      "metadata": {
        "id": "KoK_-gdY47Ca",
        "outputId": "531ac11d-ab5e-43ed-94c6-dcf1a2358fa8"
      },
      "source": [
        "bins = list(range(0, 500000, 50000))\n",
        "bins"
      ],
      "execution_count": null,
      "outputs": [
        {
          "output_type": "execute_result",
          "data": {
            "text/plain": [
              "[0, 50000, 100000, 150000, 200000, 250000, 300000, 350000, 400000, 450000]"
            ]
          },
          "metadata": {
            "tags": []
          },
          "execution_count": 14
        }
      ]
    },
    {
      "cell_type": "markdown",
      "metadata": {
        "id": "qD3J16TC47Ca"
      },
      "source": [
        "- - - - - "
      ]
    },
    {
      "cell_type": "markdown",
      "metadata": {
        "id": "0e8IhOp-47Ca"
      },
      "source": [
        "Можно сделать разные датасеты по параметрам (график-зарплата) и посмотреть популярные навыки по разным сочетаниям этим параметров, то есть сделать сетку по скиллам. \n"
      ]
    },
    {
      "cell_type": "code",
      "metadata": {
        "scrolled": true,
        "id": "AasXfO5-47Ca",
        "outputId": "6358b865-8980-431a-bb98-6359c1af6dd6"
      },
      "source": [
        "sal=df\n",
        "sal=sal.dropna()\n",
        "indexNone = sal.loc[sal['salary_to'] == 'None'].index\n",
        "sal.loc[sal['salary_to'].index.isin(indexNone), 'salary_to'] = 1 \n",
        "sal.drop(indexNone, inplace=True) #а тут другой способ как None сделать 1 \n",
        "sal = sal.astype({\"salary_to\": int})\n",
        "\n",
        "print(bins)\n",
        "setgraph = sns.FacetGrid(sal, row='experience', col='employment', height=2.8, aspect=1.3, sharex=False)\n",
        "setgraph.map(sns.histplot, 'salary_to')\n",
        "#setgraph.set(xticks=bins)\n",
        "#setgraph.set_xticklabels(rotation=45)\n",
        "setgraph.add_legend()"
      ],
      "execution_count": null,
      "outputs": [
        {
          "output_type": "stream",
          "text": [
            "C:\\Users\\ns.blinnikova\\Anaconda3\\lib\\site-packages\\pandas\\core\\indexing.py:670: SettingWithCopyWarning: \n",
            "A value is trying to be set on a copy of a slice from a DataFrame\n",
            "\n",
            "See the caveats in the documentation: https://pandas.pydata.org/pandas-docs/stable/user_guide/indexing.html#returning-a-view-versus-a-copy\n",
            "  iloc._setitem_with_indexer(indexer, value)\n",
            "<ipython-input-23-b7e61838d014>:4: SettingWithCopyWarning: \n",
            "A value is trying to be set on a copy of a slice from a DataFrame\n",
            "\n",
            "See the caveats in the documentation: https://pandas.pydata.org/pandas-docs/stable/user_guide/indexing.html#returning-a-view-versus-a-copy\n",
            "  sal.loc[sal['salary_to'].index.isin(indexNone), 'salary_to'] = 1\n",
            "C:\\Users\\ns.blinnikova\\Anaconda3\\lib\\site-packages\\pandas\\core\\frame.py:4163: SettingWithCopyWarning: \n",
            "A value is trying to be set on a copy of a slice from a DataFrame\n",
            "\n",
            "See the caveats in the documentation: https://pandas.pydata.org/pandas-docs/stable/user_guide/indexing.html#returning-a-view-versus-a-copy\n",
            "  return super().drop(\n"
          ],
          "name": "stderr"
        },
        {
          "output_type": "stream",
          "text": [
            "[0, 50000, 100000, 150000, 200000, 250000, 300000, 350000, 400000, 450000]\n"
          ],
          "name": "stdout"
        },
        {
          "output_type": "execute_result",
          "data": {
            "text/plain": [
              "<seaborn.axisgrid.FacetGrid at 0x1fffeac55b0>"
            ]
          },
          "metadata": {
            "tags": []
          },
          "execution_count": 23
        },
        {
          "output_type": "display_data",
          "data": {
            "image/png": "[encoded data removed]",
            "text/plain": [
              "<Figure size 794.24x806.4 with 12 Axes>"
            ]
          },
          "metadata": {
            "tags": [],
            "needs_background": "light"
          }
        }
      ]
    },
    {
      "cell_type": "markdown",
      "metadata": {
        "id": "4qbMnwg947Cb"
      },
      "source": [
        "ВЫВОДЫ: похоже, хорошие зарплаты можно получать при полной занятости и трехлетнем опыте работы, там много зарплат от 50 до 150 тысяч. Без опыта и при полной занятости можно рассчитывать за зарплату в районе 50 тысяч, более 50 и до 100 тысяч средняя зарплата при полной занятости и до 3 лет опыта. При таком же опыте, но с частичной занятостью можно рассчиываться скорее на зарплату от 30 до 75 тысяч. При проектной работе вилка зарплат очень разная. "
      ]
    },
    {
      "cell_type": "code",
      "metadata": {
        "scrolled": true,
        "id": "VApHl4W_47Cb",
        "outputId": "8ce37734-a082-4125-92ac-e9cd09159f9b"
      },
      "source": [
        "expIndex = list(df['experience'].unique()) \n",
        "emplIndex = list(df['employment'].unique())\n",
        "unique_combinations = []\n",
        "for elem in expIndex: \n",
        "    for item in emplIndex:    \n",
        "        zipped = (elem, item)\n",
        "        unique_combinations.append(zipped)\n",
        "unique_combinations "
      ],
      "execution_count": null,
      "outputs": [
        {
          "output_type": "execute_result",
          "data": {
            "text/plain": [
              "[('between1And3', 'project'),\n",
              " ('between1And3', 'part'),\n",
              " ('between1And3', 'full'),\n",
              " ('between1And3', nan),\n",
              " ('between3And6', 'project'),\n",
              " ('between3And6', 'part'),\n",
              " ('between3And6', 'full'),\n",
              " ('between3And6', nan),\n",
              " ('noExperience', 'project'),\n",
              " ('noExperience', 'part'),\n",
              " ('noExperience', 'full'),\n",
              " ('noExperience', nan),\n",
              " ('moreThan6', 'project'),\n",
              " ('moreThan6', 'part'),\n",
              " ('moreThan6', 'full'),\n",
              " ('moreThan6', nan),\n",
              " (nan, 'project'),\n",
              " (nan, 'part'),\n",
              " (nan, 'full'),\n",
              " (nan, nan)]"
            ]
          },
          "metadata": {
            "tags": []
          },
          "execution_count": 3
        }
      ]
    },
    {
      "cell_type": "code",
      "metadata": {
        "scrolled": true,
        "id": "zf6vzefs47Cc",
        "outputId": "32870741-3823-411d-b077-3f4209b4e910"
      },
      "source": [
        "skill_dict = {}\n",
        "for exp, emp in unique_combinations:\n",
        "    end_list = []\n",
        "    dataset = df.loc[(df['experience']==exp) & (df['employment']==emp)] #блокируем данные под выбранный опыт и график\n",
        "    dataset.fillna('ничего', inplace=True)\n",
        "    for value in dataset['key_skills'].values: \n",
        "        lst = value.split(',') #получаем список скилов под заблокированный датасет\n",
        "        for item in lst:\n",
        "            end_list.append(item)\n",
        "    finish_list = []\n",
        "    for word in end_list:\n",
        "        word = word.lower()\n",
        "        if word not in ['ничего', 'преподаватель', 'обучение', 'преподавание']:\n",
        "            finish_list.append(word)  \n",
        "    string_to_append = \",\".join(finish_list)\n",
        "    #add_str = string_to_append.replace(',', \" \") = это оставим, если используем регулярные выражения. \n",
        "    skill_dict[str(exp) + str(\" \") + str(emp)] =  string_to_append\n",
        "\n",
        "skill_dict\n",
        "#тут я комбинирую разный опыт и график работы  и какие для этого требуются навыки. \n",
        "#вообще, можно комбинировать и по названию вакансии "
      ],
      "execution_count": null,
      "outputs": [
        {
          "output_type": "stream",
          "text": [
            "C:\\Users\\ns.blinnikova\\Anaconda3\\lib\\site-packages\\pandas\\core\\frame.py:4317: SettingWithCopyWarning: \n",
            "A value is trying to be set on a copy of a slice from a DataFrame\n",
            "\n",
            "See the caveats in the documentation: https://pandas.pydata.org/pandas-docs/stable/user_guide/indexing.html#returning-a-view-versus-a-copy\n",
            "  return super().fillna(\n"
          ],
          "name": "stderr"
        },
        {
          "output_type": "execute_result",
          "data": {
            "text/plain": [
              "{'between1And3 project': 'возрастная психология,детская психология,клиническая психология,общая психология,практическая психология,социальная психология,психологическое консультирование,обучение и развитие,психология,тренинги,психология личности,грамотная речь,подготовка презентаций,организация учебного процесса,дистанционное обучение,организаторские навыки,триз,организаторские навыки,организация мероприятий,ms powerpoint,социальная психология,возрастная психология,организаторские навыки,английский язык,работа в команде,ориентация на результат,последовательный перевод,устный перевод,технический перевод,грамотная речь,знание иностранных языков,французский язык,мсфо,финансовый менеджмент,оценка инвестиционных проектов,управление проектами,управленческий учет,грамотная речь,организаторские навыки,работа в команде,деловое общение,творческое мышление,проведение праздников,английский язык,public speaking,presentation skills,публичные выступления,грамотная речь,дистанционное обучение,пожарная безопасность,охрана труда и техника безопасности,обучение и развитие,проведение семинаров',\n",
              " 'between1And3 part': 'работа с детьми,обучение и развитие,музыкант,гитарист,пианист,барабанщик,грамотная речь,деловая коммуникация,грамотность,экономический анализ,crm,организованность,организация учебного процесса,грамотность,общая психология,пользователь пк,работа в команде,организация учебного процесса,обучение и развитие,математика,английский язык,организация учебного процесса,дистанционное обучение,умение работать в команде,проведение вебинаров,разработка онлайн-курсов,онлайн-школа,таргетинг,рекламные креативы,программа курсов,ораторское искусство,интернет маркетинг,тренинги,обучение и развитие,навыки презентации,пользователь пк,обучение и развитие,организация учебного процесса,c#,c++,matlab,креативность,творческое мышление,ответственность,game programming,python,adobe photoshop,unity,microsoft visual studio,adobe premier,c/c++,c++,python,scratch,английский язык,организация учебного процесса,обучение и развитие,css,html,дистанционное обучение,творческое мышление,minecraft,javascript,roblox,developer,junior,веб-программирование,python,тренинги,публичные выступления,общая психология,индивидуальное обучение,обучение и развитие,работа в команде,навыки межличностного общения,работа в команде,грамотная речь,уверенное владение инструментом,доброжелательность,разработка технических заданий,дистанционное обучение,android,деловое общение,пользователь пк,работа с большим объемом информации,написание текстов,грамотная речь,обучение и развитие,грамотность,умение работать в команде,организация учебного процесса,работа в команде,ведение переговоров,грамотная речь,грамотность,ориентация на клиента,ориентация на результат,коммуникабельность,ios,разработка технических заданий,дистанционное обучение,английский язык,письменный перевод,устный перевод,обучение и развитие,английский язык,грамотная речь,пользователь пк,английский язык,дистанционное обучение,обучение и развитие,unity,c/c++,пользователь пк,организация учебного процесса,английский язык,грамотная речь,обучение и развитие,грамотная речь,sql,бизнес-анализ,business intelligence systems,грамотность,проведение праздников,общая психология,обучение и развитие,грамотная речь,git,python,пользователь пк,грамотная речь,грамотность,обучение и развитие,организация учебного процесса,грамотность,дистанционное обучение,общая психология,знание языка на уровне от upper-intermediate,знание и умение использовать коммуникативный подход в обучении,обучение и развитие,грамотность,умение работать в команде,организация учебного процесса,обучение и развитие,грамотность,умение работать в команде,организация учебного процесса,пользователь пк,деловое общение,работа в команде,грамотная речь,навыки межличностного общения,вокал,пользователь пк,креативность,грамотная речь,грамотность,английский язык,пользователь пк,грамотная речь,английский язык,работа в команде,обучение и развитие,грамотная речь,английский язык,организаторские навыки,обучение и развитие,работа в команде,пользователь пк,ведение переписки на иностранном языке,консультирование клиентов,навыки межличностного общения,пользователь пк,творческое мышление,общая психология,linux,обучение и развитие,unix,bash,системное администрирование,консультирование,обучение и развитие,навыки межличностного общения,обучение и развитие,грамотность,умение работать в команде,организация учебного процесса,креативность,организаторские навыки,работа в команде,детская психология,грамотная речь,обучение и развитие,грамотность,умение работать в команде,организация учебного процесса,английский язык,детская психология,организаторские навыки,грамотная речь,преподавание онлайн,c++,microsoft visual studio,ооп,пользователь пк,организаторские навыки,работа в команде,деловая коммуникация,ведение переписки на иностранном языке,английский язык,обучение и развитие,дистанционное обучение,грамотность,английский язык,детская психология,охрана труда и техника безопасности,общая психология,креативность,организаторские навыки,грамотная речь,испанский язык,публичные выступления,проведение презентаций,написание текстов,навыки презентации,аналитическое мышление,групповое обучение,грамотность,обучение и развитие,грамотная речь,подготовка презентаций,обучение и развитие,пользователь пк,шахматы,грамотная речь,пользователь пк,грамотность,ms paint,работа с людьми,умение работать в команде,грамотность,грамотная речь,навыки межличностного общения,обучение и развитие,грамотность,умение работать в команде,организация учебного процесса,английский язык,умение работать в команде,навыки межличностного общения,грамотность,дистанционное обучение,творческое мышление,организация учебного процесса,работа в команде,проведение праздников,точность и внимательность к деталям,грамотная речь,общая психология,творческое мышление,детская психология,доброжелательность,индивидуальные тренировки,индивидуальное обучение,клиентоориентированность,ответственность,коммуникабельность,грамотная речь,пользователь пк,организаторские навыки,ориентация на результат,обучение и развитие,навыки межличностного общения,групповое обучение,вокал,пользователь пк,грамотная речь,обучение и развитие,грамотность,умение работать в команде,организация учебного процесса,грамотная речь,умение работать в команде,креативность,групповое обучение,индивидуальное обучение,английский язык,ведение переписки на иностранном языке,грамотность,умение работать в команде,общая психология,turbo pascal,точность и внимательность к деталям,грамотность,пользователь пк,грамотная речь,грамотность,обучение и развитие,веб-программирование,html,css,javascript,phyton,scratch,дистанционное обучение,грамотная речь,обучение и развитие,грамотность,немецкий язык,грамотная речь,грамотность,организация учебного процесса,обучение и развитие,грамотная речь,sql,бизнес-анализ,пользователь пк,обучение и развитие,организация учебного процесса,умение работать в команде,пользователь пк,индивидуальное обучение,математика,репетитор,учитель,математик,ms outlook,грамотная речь,пользователь пк,работа в команде,ms paint,английский язык,работа в команде,обучение и развитие,грамотная речь,детская психология,возрастная психология,написание статей,общая психология,грамотная речь,обучение персонала,обучение и развитие,тренинги,ms outlook,грамотная речь,пользователь пк,работа в команде,ms paint,навыки межличностного общения,творческое мышление,ответственность,обучение и развитие,организация учебного процесса,ms outlook,грамотная речь,пользователь пк,работа в команде,ms paint,обучение и развитие,детская психология,организаторские навыки,занятия,дошкольное образование,обучение и развитие,грамотная речь,ms excel,табличный редактор,организаторские навыки,вокал,грамотная речь,общая психология,kotlin,swift,flutter,организация учебного процесса,дистанционное обучение,организаторские навыки,деловой этикет,обучение и развитие,организация учебного процесса,английский язык,обучение и развитие,дистанционное обучение,грамотность,английский язык,грамотность,организация учебного процесса,диагностика,грамотная речь,многозадачность,работа с детьми,разработка методологии,организация учебного процесса,дистанционное обучение,организаторские навыки,английский язык,работа в команде,грамотная речь,умение работать в команде,грамотная речь,обучение и развитие,французский язык,английский язык,обучение и развитие,дистанционное обучение,грамотность,обучение и развитие,грамотная речь,вокал,ориентация на результат,индивидуальное обучение,пользователь пк,проведение презентаций,консультирование,публичные выступления,организация учебного процесса,дистанционное обучение,организаторские навыки,финансовая грамотность,групповое обучение,обучение и развитие,организация учебного процесса,робототехника,грамотная речь,грамотность,ms paint,пользователь пк,английский язык,ms powerpoint,windows 7,охрана труда и техника безопасности,проведение презентаций,организаторские навыки,публичные выступления,английский язык,грамотная речь,пользователь пк,грамотная речь,грамотность,грамотная речь,детская психология,обучение и развитие,обучение и развитие,организация учебного процесса,корейский,детская психология,возрастная психология,работа с людьми,грамотная речь,грамотность,творческое мышление,matlab,c++,обучение и развитие,организация учебного процесса,дистанционное обучение,организаторские навыки,нейропсихология,групповое обучение,курсы,работа в команде,windows xp,работа в команде,грамотная речь,windows xp,работа в команде,windows xp,unity,c#,ооп,организация учебного процесса,общая психология,групповое обучение,обучение и развитие,организация учебного процесса,дистанционное обучение,организаторские навыки,астрономия,дошкольное образование,курсы,организация учебного процесса,умение работать в команде,общая психология,групповое обучение,обучение и развитие,организаторские навыки,стрессоустойчивость,детская психология,обучение и развитие,английский язык,обучение и развитие,работа в команде,организация учебного процесса,python,работа в команде,грамотная речь,windows xp,грамотность,грамотность,английский язык,пользователь пк,творческое мышление,пользователь пк,обучение и развитие,работа в команде,windows xp,грамотная речь,обучение и развитие,немецкий язык,работа в команде,windows xp,работа в команде,windows xp,подготовка к огэ,консультирование,грамотная речь,навыки межличностного общения,организаторские навыки,творческое мышление,точность и внимательность к деталям,грамотная речь,обучение и развитие,иврит,французский язык,работа в команде,творческое мышление,умение работать в коллективе,работа с людьми,обучение и развитие,грамотная речь,обучение и развитие,английский язык,работа в команде,windows xp,подготовка к егэ,коммуникабельность,доброжелательность,умение работать в коллективе,ответственность,грамотность,пользователь пк,репетитор,обучение и развитие,организация учебного процесса,болгарский,дистанционное обучение,обучение и развитие,финский язык,с1 продвинутый,финский с1 продвинутый,skype,индивидуальное обучение,способность обучать других,знание иностранных языков,дистанционное обучение,английский язык,работа в команде,детское обучение,индивидуальное обучение,работа с детьми,обучение и развитие,skype,работа в команде,windows xp,sony vegas,pascal,организация учебного процесса,учитель,физика,пользователь пк,индивидуальное обучение,математика,егэ,подготовка к егэ,репетитор,учитель,немецкий язык,английский язык,французский язык,итальянский язык,испанский язык,индивидуальное обучение,деловая коммуникация,организаторские навыки,английский язык,деловая коммуникация,умение работать в команде,работа с детьми,языковой центр,грамотность,знание иностранных языков,творческое мышление,грамотная речь,письменный перевод,дистанционное обучение,грамотная речь,обучение и развитие,английский язык,грамотная речь,adobe photoshop,креативность,английский язык,организация учебного процесса,тренинги,детская психология,общая психология,раннее развитие детей,обучение и развитие,творческое мышление,спортивные мероприятия,консультирование,работа в команде,обучение и развитие,организация учебного процесса,обучение и развитие,испанский язык,удаленная работа,преподаватель испанского удаленно,дистанционное обучение,учитель испанского,работа в команде,обучение и развитие,организация учебного процесса,хореография,балет,работа в команде,классический танец,обучение и развитие,умение работать в команде,работа с людьми,творческое мышление,английский язык,работа в команде,детская психология,работа с детьми,дошкольный педагог,навыки презентации,presentation skills,английский язык,грамотная речь,networking,информационная безопасность,дистанционное обучение,проведение презентаций,работа в команде,графика,adobe photoshop,художник,графические редакторы,организация учебного процесса,творческое мышление,обучение и развитие,работа с детьми,педагог,консультирование,обучение и развитие,умение работать в команде,общая психология,навыки межличностного общения,точность и внимательность к деталям,способность обучать других,google analytics,яндекс.метрика,gtm,немецкий язык,английский язык,пользователь пк,грамотная речь,оформление документации,умение расставлять приоритеты,навыки презентации,ms word,обучение и развитие,грамотная речь,монтессори,психология,возрастная психология,точность и внимательность к деталям,умение работать в коллективе,работа с детьми,работа с родителями,python,работа в команде,грамотность,ms access,детская психология,грамотная речь,деловое общение,работа в команде,навыки межличностного общения,zbrush,adobe photoshop,3ds max,autodesk maya,substance painter,английский язык,обучение и развитие,дистанционное обучение,грамотность,письменный перевод,английский язык,устный перевод,перевод,технический перевод,навыки межличностного общения,креативность,деловое общение,грамотность,творческое мышление,детская психология,коммуникабельность,организация мероприятий,грамотная речь,английский язык,грамотная речь,английский язык,ведение переписки на иностранном языке,обучение и развитие,грамотная речь,обучение и развитие,грамотная речь,организаторские навыки,работа в команде,грамотная речь,навыки межличностного общения,фитнес,детская психология,веб-аналитика,бизнес-анализ,обучение и развитие,грамотная речь,яндекс.метрика,google analytics,gtm,ms sql,javascript,css,html,python,индивидуальное обучение,деловая коммуникация,клиентоориентированность,английский язык,индивидуальное обучение,деловая коммуникация,html5,css3,javascript,angularjs,react,jquery,ajax,английский язык,испанский язык,деловая коммуникация,работа с детьми,публичные выступления,обучение и развитие,организация учебного процесса,навыки межличностного общения,групповое обучение,урегулирование конфликтов,пользователь пк,владение техникой продаж,unity,c++,пользователь пк,индивидуальное обучение,математика,репетитор,учитель,python,html,css,c++,веб-программирование,unity,организация учебного процесса,php,обучение и развитие,работа в команде,групповое обучение,java,javascript,информационные технологии,ms outlook,грамотная речь,пользователь пк,работа в команде,грамотность,adobe photoshop,дистанционное обучение,подготовка презентаций,проведение презентаций,обучение и развитие,python,html,css,c++,веб-программирование,unity,организация учебного процесса,php,обучение и развитие,работа в команде,групповое обучение,java,javascript,информационные технологии,turbo pascal,составление отчетности,английский язык,креативность,пользователь пк,деловое общение,грамотная речь,ориентация на результат,консалтинг,big-4,сервисная линия advisory,дистанционное обучение,обучение и развитие,итальянский язык,грамотная речь,грамотность,работа в команде,креативность,управление талантами,радио,телевидение,ооп,design patterns,c++,актер,актерское мастерство,детская психология,навыки межличностного общения,общая психология,возрастная психология,работа в команде,грамотная речь,детская психология,обучение и развитие,организаторские навыки,работа в команде,психология личности,креативность,социальная психология,организация учебного процесса,групповое обучение,испанский язык,java,android sdk,ооп,android,java se,веб-программирование,базы данных,грамотная речь,работа в команде,организаторские навыки,навыки межличностного общения,обучение и развитие,английский язык,немецкий язык,организация учебного процесса,творческое мышление,организаторские навыки,детская психология,грамотная речь,работа в команде,креативность,коммуникабельность,любовь к детям,коммуникабельность,ms excel,работа в команде,дистанционное обучение,немецкий язык,работа в команде,обучение и развитие,навыки межличностного общения,sql,организация учебного процесса,базы данных,английский язык,французский язык,испанский язык,немецкий язык,детская психология,работа в команде,грамотная речь,креативность,групповое обучение,ms publisher,детская психология,возрастная психология,навыки межличностного общения,деловое общение,триз,креативность,творческое мышление,грамотная речь,эмоциональный интеллект,soft skills,ораторство,актёрское мастерство,управление персоналом,организация мероприятий,организаторские навыки,работа в команде,бальные танцы,танцы,фитнес,йога,аштанга-йога,хатха-йога,хореография,zoom,google docs,коммуникабельность,telegram,английский язык,индивидуальное обучение,итальянский язык,деловая коммуникация,пользователь пк,ms internet explorer,1с: документооборот,управление документооборотом,ms paint,навыки межличностного общения,общая психология,творческое мышление,умение работать в коллективе,английский язык,wpf,c#,windows forms,transact-sql,linq,ооп,sql server,ориентация на результат,творческое мышление,доброжелательность,добросовестность,грамотная речь,обучение и развитие,детская психология,работа с людьми,обучение и развитие,грамотная речь,детская психология,работа в команде,организация учебного процесса,фитнес,организаторские навыки,английский язык,грамотная речь,навыки межличностного общения,коммуникативные навыки,веб-программирование,базы данных,вокал,организаторские навыки,креативность,обучение и развитие,организаторские навыки,работа в команде,обучение и развитие,грамотная речь,английский язык,дистанционное обучение,клиентоориентированность,english,accuracy,time management,team work,teaching,methodics,neatness,team player,english teacher,people psychology,patience,loyalty,empathy,active listening,psychologist,английский язык,итальянский язык,индивидуальное обучение,деловая коммуникация,грамотная речь,пользователь пк,грамотность,умение работать в команде,навыки межличностного общения,навыки работы с возражениями,грамотная речь,организаторские навыки,вокал,пользователь пк,работа в команде,ms internet explorer,владение музыкальными инструментами (баян, аккордеон, гитара)',\n",
              " 'between1And3 full': 'грамотная речь,учредительные документы,производственный контроль,общая психология,ms publisher,работа в команде,грамотная речь,английский язык,педагогическое образование,любовь к детям,высокий уровень самоорганизации и мотивации,стрессоустойчивость,стрессоустойчивость,работа в команде,грамотная речь,обучение и развитие,детская психология,ориентация на результат,английский язык,французский язык,немецкий язык,пользователь пк,работа в команде,организация учебного процесса,обучение и развитие,дистанционное обучение,математический анализ,работа в команде,грамотная речь,навыки межличностного общения,общая психология,обучение и развитие,грамотность,русский язык,пользователь пк,английский язык,грамотная речь,английский язык,грамотная речь,работа в команде,дистанционное обучение,skype,английский язык,организация учебного процесса,обучение и развитие,работа в команде,грамотная речь,публичные выступления,ориентация на результат,навыки презентации,умение работать в команде,организация мероприятий,английский язык,организаторские навыки,деловая коммуникация,грамотная речь,организаторские навыки,грамотность,групповое обучение,индивидуальное обучение,работа с людьми,детская психология,обучение и развитие,общая психология,психология,грамотная речь,работа в команде,организация учебного процесса,обучение и развитие,грамотная речь,английский язык,обучение и развитие,креативность,электронный документооборот,дистанционное обучение,обучение и развитие,ориентация на результат,обучение и развитие,работа в команде,грамотная речь,пользователь пк,грамотная речь,возрастная психология,общая психология,психология,грамотная речь,организация учебного процесса,работа с большим объемом информации,ms publisher,умение работать в коллективе,способность обучать других,стремление к саморазвитию,обучение и развитие,индивидуальное обучение,физика,обучение и развитие,индивидуальное обучение,физика,тренинги,английский язык,грамотная речь,ориентация на результат,организация учебного процесса,многозадачность,ответственность,грамотная речь,грамотность,работа в команде,креативность,ориентация на результат,работа с большим объемом информации,проведение презентаций,клиентоориентированность,пользователь пк,английский язык,креативность,работа в команде,ориентация на результат,ответственность,обучение и развитие,индивидуальное обучение,физика,crm,навыки презентации,ведение переговоров,управление персоналом,ведение групп в социальных сетях,ms excel,организация учебного процесса,организация мероприятий,ms powerpoint,обучение и развитие,организаторские навыки,организация мероприятий,организация учебного процесса,ms powerpoint,обучение и развитие,организаторские навыки,ответственность,коммуникабельность,любовь к детям,организованность,умение работать в команде,пользователь пк,грамотная речь,пользователь пк,грамотность,электронный документооборот,навыки межличностного общения,английский язык,грамотная речь,обучение и развитие,ms powerpoint,делопроизводство,грамотность,знание иностранных языков,целеустремленность,желание учиться,умение общаться с людьми,лидерские качества,обучение математике,вовлеченность,обучение и развитие,коммуникативные навыки,работа в команде,наставничество,ms powerpoint,организаторские навыки,обучение и развитие,грамотная речь,пользователь пк,грамотная речь,грамотность,электронный документооборот,навыки межличностного общения,английский язык,обучение и развитие,деловая коммуникация,грамотная речь,вокал,обучение и развитие,организация учебного процесса,работа в команде,английский язык,работа в команде,навыки презентации,обучение и развитие,работа в команде,грамотная речь,обучение и развитие,креативность,навыки межличностного общения,пользователь пк,обучение и развитие,групповое обучение,математика,репетитор,учитель,егэ,математическое моделирование,mathcad,математический анализ,ms powerpoint,экономическое моделирование,английский язык,грамотность,творческое мышление,многозадачность,ответственность,мобильность,ведение документации,ответственность,телефонные переговоры,работа в команде,консультирование,грамотная речь,проведение презентаций,ведение отчетности,деловая переписка,деловая коммуникация,опыт преподавания,,творческий подход к работе,ответственность,работа с любыми категориями учащихся,желание работать в команде,публичные выступления,ориентация на результат,организация учебного процесса,управление временем,ведение документации,ответственность,телефонные переговоры,работа в команде,консультирование,грамотная речь,проведение презентаций,ведение отчетности,деловая переписка,деловая коммуникация,музыкальное образование,педагогическое образование,любовь к детям,творческий подход,понимание детской психологии,английский язык,устный перевод,ведение переписки на иностранном языке,подготовка презентаций на иностранном языке,обучение и развитие,skype,business english,проведение тестирований,индивидуальное обучение,работа с людьми,знание иностранных языков,организация учебного процесса,дистанционное обучение,ведение переговоров,детская психология,грамотная речь,общая психология,возрастная психология,психология,обучение и развитие,грамотность,работа с людьми,skype,ms publisher,microsoft office frontpage,грамотность,английский язык,грамотная речь,точность и внимательность к деталям,обучение и развитие,грамотность,деловое общение,коммуникабельность,делопроизводство,стрессоустойчивость,коммуникабельность,грамотная речь,административная поддержка руководителя,организаторские навыки,документооборот,обучение и развитие,умение работать в команде,пользователь пк,работа в команде,деловая коммуникация,ориентация на клиента,ориентация на результат,коммуникабельность,английский язык,обучение и развитие,любовь к детям,умение работать в команде,инициативность,ответственность,креативность,безопасность,активная жизненная позиция,знание детской психологии,английский язык,пользователь пк,работа в команде,грамотная речь,работа в команде,грамотная речь,деловая коммуникация,детская психология,умение работать в команде,ms powerpoint,организаторские навыки,обучение и развитие,грамотная речь,творческое мышление,английский язык,креативность,организация учебного процесса,грамотная речь,женские стрижки,окрашивание волос,колорирование,организация учебного процесса,английский язык,организация мероприятий,работа в команде,ms powerpoint,организаторские навыки,обучение и развитие,грамотная речь,умение работать в команде,пользователь пк,грамотная речь,обучение и развитие,грамотность,поисковые системы,работа в команде,turbo pascal,точность и внимательность к деталям,ответственность,исполнительность,активность,умение играть и занимать детей (от 1 года и до 8 лет),грамотная речь,достойный внешний вид,хорошая физическая форма,грамотная речь,обучение и развитие,грамотность,планирование,организация мероприятий,охрана труда и техника безопасности,организаторские навыки,пользователь пк,английский язык,организаторские навыки,работа с детьми,работа в команде,грамотная речь,ориентация на результат,клиентоориентированность,креативность,творческое мышление,проведение праздников,ооп,git,javascript,node.js,jquery,teamleading,обучение и развитие,грамотность,организация учебного процесса,спортивные мероприятия,работа с людьми,корпоративная этика,работа в команде,проведение семинаров,дистанционное обучение,юриспруденция,дистанционное обучение,обучение и развитие,работа в команде,умение работать в команде,возрастная психология,психология,креативность,детская психология,английский язык,доброжелательность,организация учебного процесса,точность и внимательность к деталям,пользователь пк,ms word,электрика,электромонтажные работы,ms powerpoint,ms excel,ispring,дистанционное обучение,подготовка презентаций,креативность,обучение и развитие,проведение презентаций,публичные выступления,проведение тестирований,работа в команде,организаторские навыки,групповое обучение,тренинги,от и пб,птм,обучение и развитие,многозадачность,грамотная речь,организация учебного процесса,результативность,навыки межличностного общения,детская психология,общая психология,творческое мышление,грамотная речь,организаторские навыки,креативность,работа в команде,детская психология,проведение развивающих занятий,организация детского досуга,организация детских утренников,знание и практическое применение образовательных программ,умение находить подход к детям,организация детских игр,английский язык,работа в команде,деловая коммуникация,грамотность,навыки составления отчетности,умение работать с аис контингент, эжд, office 365,python,sql,test case,регресионное тестирование,тестирование пользовательского интерфейса,ms powerpoint,организаторские навыки,обучение и развитие,грамотная речь,ms powerpoint,организаторские навыки,обучение и развитие,грамотная речь,ms powerpoint,организаторские навыки,обучение и развитие,грамотная речь,ms powerpoint,организаторские навыки,обучение и развитие,грамотная речь,ms powerpoint,организаторские навыки,обучение и развитие,грамотная речь,обучение и развитие,детская психология,грамотная речь,умение работать в команде,навыки межличностного общения,английский язык,организация учебного процесса,организаторские навыки,обучение и развитие,детская психология,работа в команде,грамотная речь,творческое мышление,грамотность,linux,обучение и развитие,организация учебного процесса,грамотная речь,коммуникабельность,ответственность,работоспособность,уравновешенность,дисциплинированность,пользователь пк,аттестация объектов информатизации,измерительные комплексы,защита от нсд,со помещений,оценка си волс,коммуникабельность,пунктуальность,обучение и развитие,развивающее обучение,дистанционное обучение,психология,групповое обучение,грамотность,психология личности,общая психология,индивидуальное обучение,детская психология,грамотная речь,работа в команде,возрастная психология,ориентация на результат,эльконин - давыдов,учебная задача,триз,детская психология,английский язык,возрастная психология,работа в команде,организация учебного процесса,грамотная речь,работа в команде,организаторские навыки,детская психология,ms powerpoint,организаторские навыки,обучение и развитие,грамотная речь,грамотная речь,работа с людьми,знание иностранных языков,администрирование процесса обучения,индивидуальное обучение,английский язык,немецкий язык,английский язык,грамотная речь,работа в команде,обучение и развитие,навыки межличностного общения,пользователь пк,грамотность,организаторские навыки,обучение и развитие,разработка концепции,организация учебного процесса,грамотная речь,грамотность,знание иностранных языков,английский язык,работа в команде,работа в команде,грамотная речь,общая психология,умение работать в команде,детская психология,ms powerpoint,обучение и развитие,написание научный статей,написание статей,тренинги,организаторские навыки,пользователь пк,консультирование,грамотная речь,немецкий язык,английский язык,французский язык,испанский язык,индивидуальное обучение,деловая коммуникация,teamplayer,английский язык,time management,english,teaching,sport,active games,swimming,pe,physical education,физическая культура,спорт,teacher,обучение и развитие,оформление документации,навыки межличностного общения,проведение презентаций,маникюр,английский язык,детская психология,грамотная речь,грамотность,пользователь пк,консультирование,грамотная речь,клиентоориентированность,грамотность,творческое мышление,английский язык,детская психология,организаторские навыки,грамотная речь,преподавание онлайн,организаторские навыки,работа в команде,детская психология,обучение и развитие,умение работать в коллективе,навыки межличностного общения,эмпатия,желание развиваться,знание основ хореографии,детская психология,грамотная речь,работа в команде,обучение и развитие,общая психология,навыки презентации,пользователь пк,работа в команде,обучение и развитие,организаторские навыки,креативность,психология,умение работать в коллективе,творческое мышление,грамотность,навыки межличностного общения,пользователь пк,английский язык,доброжелательность,организация учебного процесса,работа в команде,грамотная речь,художник,творческое мышление,работа с людьми,грамотность,педагог,педагог изо,изо,живопись,масляная живопись,навыки межличностного общения,общая психология,творческое мышление,работа с большим объемом информации,креативность,грамотная речь,творческое мышление,умение работать в коллективе,грамотность,знание иностранных языков,пользователь пк,организаторские навыки,грамотность,грамотная речь,обучение и развитие,умение работать с детьми,материальная ответственность,детская психология,психология личности,общая психология,возрастная психология,психология,организация учебного процесса,креативность,организация мероприятий,организаторские навыки,обучение и развитие,навыки межличностного общения,работа в команде,грамотная речь,построение индивидуальных планов развития,английский язык,письменный перевод,обучение и развитие,деловая коммуникация,английский язык,грамотная речь,пользователь пк,работа в команде,навыки презентации,пользователь пк,английский язык,грамотная речь,грамотность,ms paint,организация занятий,ведение переговоров с родителями,общая психология,организаторские навыки,обучение и развитие,разработка концепции,организация учебного процесса,организаторские навыки,обучение и развитие,разработка концепции,организация учебного процесса,грамотная речь,экономический анализ,грамотность,социальная психология,индивидуальное обучение,грамотная речь,грамотность,итальянский язык,turbo pascal,точность и внимательность к деталям,дошкольная педагогика,подготовка к школе,ответственность,деловая переписка,ведение переговоров,деловое общение,ms outlook,пользователь пк,телефонные переговоры,работа в команде,деловая коммуникация,грамотная речь,управление проектами,работа с большим объемом информации,подбор персонала,аналитическое мышление,телефонное интервью,оценка кандидатов,массовый подбор персонала,прямой поиск,взаимодействие с вузами,поиск информации в интернет,индивидуальное обучение,групповое обучение,организация обучения иностранным языкам,английский язык,дистанционное обучение,microsoft azure security technologies,разработка и внедрение решения data science в azure,перенос рабочих нагрузок sql в azure,разработка и внедрение решения для данных azure,перенос рабочих нагрузок windows server в azure,английский язык,письменный перевод,устный перевод,английский язык,обучение и развитие',\n",
              " 'between1And3 nan': '',\n",
              " 'between3And6 project': 'data science,python,ms sql,sql,autodesk maya,adobe after effect,zbrush,3d моделирование,видеомонтаж,autodesk motionbuilder,autodesk motionbuilder faceware analyzer,unreal engine,autodesk 3d studio max,adobe audition,обработка видео,3d max,c#,python,data mining,sql,математическая статистика,c++,c#,c#,подготовка презентаций,проведение семинаров,обучение и развитие,проведение презентаций,групповое обучение,организация учебного процесса,обучение и развитие,навыки межличностного общения,выездные мероприятия,навыки презентации,обучение персонала,ms powerpoint,обучение и развитие,навыки межличностного общения,выездные мероприятия,навыки презентации,обучение персонала,ms powerpoint,обучение и развитие,организация учебного процесса,противодействие коррупции',\n",
              " 'between3And6 part': 'дистанционное обучение,работа в команде,организация учебного процесса,организаторские навыки,грамотная речь,пользователь пк,деловая коммуникация,клиентоориентированность,творческое мышление,групповое обучение,tableau,tableau desktop,data extracts,tableau advanced,actions,обучение и развитие,опрятный внешний вид,ответственность,пунктуальность,грамотная речь,пользователь пк,грамотность,медицинская документация,организация учебного процесса,организаторские навыки,умение работать в команде,обучение и развитие,немецкий язык,организация учебного процесса,психология,грамотная речь,работа в команде,пользователь пк,грамотная речь,грамотность,умение работать в коллективе,грамотная речь,грамотность,пользователь пк,репетитор,грамотность,грамотная речь,электронная почта,навыки межличностного общения,общая психология,тзи,пак \"саламандра\",фстэк,обучение и развитие,дистанционное обучение,обучение и развитие,деловое общение,организаторские навыки,креативность,грамотная речь,общая психология,точность и внимательность к деталям,детская психология,возрастная психология,общая психология,английский язык,пользователь пк,ответственность,коммуникабельность,грамотная речь,пользователь пк,организаторские навыки,ориентация на результат,умение работать в коллективе,творческое мышление,дистанционное обучение,грамотная речь,обучение и развитие,английский язык,грамотность,групповое обучение,знание иностранных языков,индивидуальное обучение,точность и внимательность к деталям,работа в команде,бумажный документооборот,angular,javascript,redux-архитектура,ngrx,rxjs,тзи,сигруд-м19,фстэк,дистанционное обучение,грамотная речь,грамотная речь,дистанционное обучение,детская психология,организация мероприятий,организаторские навыки,публичные выступления,грамотная речь,английский язык,грамотность,грамотная речь,индивидуальное обучение,навыки межличностного общения,деловой английский,бизнес-английский,грамотная речь,умение преподавать,kaspersky labs,kaspersky endpoint security,klcp: kaspersky endpoint security and management,ms access,работа в команде,matlab,умение работать в команде,turbo pascal,творческое мышление,обучение и развитие,общая психология,организаторские навыки,организация учебного процесса,грамотная речь,общая психология,умение работать в коллективе,умение взаимодействовать с родителями,английский язык,грамотная речь,навыки межличностного общения,обучение и развитие,детская психология,способность обучать других,организация учебного процесса,грамотная речь,обучение и развитие,общая психология,грамотность,грамотность,дистанционное обучение,обучение и развитие,грамотная речь,грамотная речь,работа с большим объемом информации,поиск информации в интернет,навыки межличностного общения,грамотность,креативность,грамотная речь,деловое общение,навыки межличностного общения,ответственность,пунктуальность,харизма,умение слышать собеседника,креативность,грамотность,знание иностранных языков,организация учебного процесса,организация мероприятий,организация учебного процесса,ms powerpoint,организаторские навыки,обучение и развитие,общая психология,диагностика,творческое мышление,умение работать в коллективе,грамотность,организация учебного процесса,навыки межличностного общения,ответственность,коммуникабельность,грамотная речь,пользователь пк,организаторские навыки,ориентация на результат,английский язык,организаторские навыки,деловое общение,организация учебного процесса,возрастная психология,навыки межличностного общения,работа с людьми,стрессоустойчивость,детская психология,грамотность,владение английским языком на уровне advanced, опыт преподавания, хорошие коммуникативные навыки.,грамотность,ответственность,пунктуальность,харизма,умение слышать собеседника,креативность,грамотность,знание иностранных языков,организация учебного процесса,ответственность,пунктуальность,харизма,умение слышать собеседника,грамотная речь,детская психология,организаторские навыки,общая психология,работа в команде,грамотность,linux,astra linux,javascript,react,end-2-end testing,jest,бренд-менеджмент,личный бренд,маркетинговые коммуникации,стратегический маркетинг,разработка маркетинговой стратегии,crm-система,digital marketing,подготовка презентаций,грамотная речь,проведение презентаций,навыки презентации,разработка маркетинговой стратегии,стратегическое мышление,управление отношениями с клиентами,smm,создание сайтов,русский язык,налоговое законодательство,1c: бухгалтерия,проведение семинаров,российские стандарты бухгалтерского учета,обучение и развитие,mathcad,творческое мышление,ms powerpoint,технический писатель,тзи,талион,фстэк,ремонт пк,ведение отчетности,python,java,javascript,sql,c++,обучение и развитие,грамотная речь,грамотность,пользователь пк,защита персональных данных,безопасность,информационная безопасность,фстэк,информационная безопасность,защита государственной тайны,python,data analysis,английский язык,работа в команде,организаторские навыки,обучение и развитие,управление интернет-проектами,английский язык,креативность,разработка технических заданий,программирование контроллеров и микропроцессоров,arm cortex,arm cortex-m,мк stm32f,postgresql,ms sql,pl/pgsql,python,git,linux,английский язык,работа в команде,обучение и развитие,творческое мышление,ms powerpoint,apache hadoop,apache hive,impala,linux,unix,advanced level linux professional,freebsd,организация учебного процесса,реверс-инжиниринг,обратная разработка кода,вредоносное по,malwere,статический и динамический анализ,низкоуровневое и системное программирование,грамотная речь,пользователь пк,грамотность,немецкий язык,деловой английский,пунктуальность,клиентоориентированность,грамотность,английский язык,деловая коммуникация,оценка потребностей клиентов,работа с vip клиентами,коммуникабельность,гибкость,креативность,общая психология,детская психология,организаторские навыки,танцы,учитель танцев,организация учебного процесса,работа в команде,грамотная речь,организаторские навыки,детская психология,английский язык,грамотная речь,работа с детьми,летний лагерь,умение работать в коллективе,творческое мышление,работа в команде,доброжелательность,стрессоустойчивость,грамотная устная речь,организаторские навыки,конструирование одежды,моделирование одежды,коммуникабельность,работа в команде,английский язык,деловая коммуникация,time management,пользователь пк,postgresql,веб-программирование,google docs,google cloud,google adwords,google analytics,early development,montessori,people psychology,kids psychology,neatness,toddlers,speech therapy,fine and motor skills,english teacher,crafts for toddlers,вокал,работа в команде,грамотность,организационное развитие,школа музыки элвис,английский язык,грамотная речь,1с: документооборот,деловая коммуникация,обучение и развитие,английский язык,тренинги,работа в команде,китайский язык,учитель китайского языка,преподаватель китайского языка,пользователь пк,работа в команде,ms internet explorer,деловая коммуникация,навыки межличностного общения,детская психология,умение работать в команде,умение работать в коллективе,работа с людьми',\n",
              " 'between3And6 full': 'дистанционное обучение,работа в команде,организация учебного процесса,грамотная речь,детская психология,пользователь пк,возрастная психология,дистанционное обучение,работа в команде,организация учебного процесса,грамотная речь,грамотность,работа в команде,деловая коммуникация,ориентация на клиента,ориентация на результат,коммуникабельность,обучение и развитие,тренинги,организаторские навыки,грамотная речь,наставничество,умение работать в команде,ориентация на результат,творческое мышление,английский язык,грамотная речь,обучение и развитие,деловая коммуникация,грамотность,детская психология,работа в команде,дистанционное обучение,работа в команде,организация учебного процесса,дистанционное обучение,работа в команде,организация учебного процесса,творческое мышление,работа с людьми,организаторские навыки,исполнительность,коммуникабельность,ориентация на клиента,дистанционное обучение,работа в команде,организация учебного процесса,дистанционное обучение,работа в команде,организация учебного процесса,обучение и развитие,грамотная речь,креативность,грамотность,индивидуальное обучение,творческое мышление,работа в команде,гибкость мышления,обучение и развитие,ориентация на результат,английский язык,организация учебного процесса,работа в команде,дистанционное обучение,работа в команде,организация учебного процесса,грамотная речь,работа в команде,организаторские навыки,ориентация на результат,грамотность,навыки презентации,управленческие навыки,пользователь пк,детская психология,стрессоустойчивость,ответственность,ориентация на результат,способность обучать других,работа в команде,дистанционное обучение,работа в команде,организация учебного процесса,английский язык,творческий подход,профессионализм,стрессоустойчивость,организация учебного процесса,организация мероприятий,грамотная речь,организаторские навыки,обучение и развитие,пользователь пк,ответственность,исполнительность,любовь к своему делу,коммуникабельность,дистанционное обучение,работа в команде,обучение и развитие,проведение презентаций,проведение семинаров,грамотная речь,обучение и развитие,подготовка презентаций,грамотность,навыки презентации,• преимущество у кандидатов своего материала по обучению (разработанные программы и презентации)и,информационные технологии,borland delphi,ms access,delphi,pascal,математическая статистика,математический анализ,математическое моделирование,matlab,mathcad,дистанционное обучение,работа в команде,обучение и развитие,грамотная речь,обучение и развитие,работа в команде,индивидуальное обучение,организация мероприятий,организация учебного процесса,ms powerpoint,английский язык,обучение и развитие,петерсон,начальная школа,высшая квалификационная категория,организация учебного процесса,организация мероприятий,организаторские навыки,пользователь пк,деловая коммуникация,обучение и развитие,общая психология,грамотность,креативность,организация учебного процесса,умение работать в команде,грамотная речь,работа в команде,проведение презентаций,грамотная речь,английский язык,обучение и развитие,организаторские навыки,грамотная речь,пользователь пк,клиентоориентированность,грамотная речь,работа в команде,вокал,организация мероприятий,организаторские навыки,пользователь пк,деловая коммуникация,обучение и развитие,общая психология,грамотность,креативность,организация учебного процесса,умение работать в команде,грамотная речь,дистанционное обучение,работа в команде,обучение и развитие,графический дизайн,web-дизайн,дизайн,adobe photoshop,графические редакторы,грамотная речь,mathcad,turbo pascal,pascal,skype,дистанционное обучение,работа в команде,организация учебного процесса,детская психология,возрастная психология,общая психология,английский язык,публичные выступления,тренинги,проведение презентаций,ms powerpoint,подготовка презентаций,женские стрижки,мужские стрижки,окрашивание волос,колористика,английский язык,грамотность,английский язык,работа в команде,обучение и развитие,ориентация на результат,индивидуальное обучение,дистанционное обучение,навыки межличностного общения,общая психология,ms publisher,точность и внимательность к деталям,ms outlook,ms powerpoint,организаторские навыки,пользователь пк,обучение и развитие,английский язык,преподаватель английского,методист,старший преподаватель английского языка,младшие школьники,международные экзамены yle, ket, pet, fce,школьники,огэ,егэ,гиа,коммуникативной методике,обучение английскому языку,квест,разговорный клуб,деловой английский,корпоративное обучение,обучение по скайп,english by skype,английский по скайпу,репетитор,репетитор по английскому языку,elementary,pre-intermediate,intermediate,upper intermediate,advanced,beginner,beginner/elementary,starter,education,креативность,умение разрешать конфликтные ситуации,коммуникабельность,инициативность,грамотная речь,грамотность,английский язык,обучение и развитие,грамотность,английский язык,обучение и развитие,работа в команде,составление отчетности,грамотность,групповое обучение,индивидуальное обучение,организаторские навыки,работа в команде,грамотная речь,навыки межличностного общения,пользователь пк,грамотная речь,грамотность,английский язык,ms powerpoint,работа с большим объемом информации,пользователь пк,пользователь пк,adobe photoshop,грамотная речь,графические редакторы,coreldraw,работа в команде,работа с оргтехникой,английский язык,ms powerpoint,работа с большим объемом информации,пользователь пк,консультирование,обучение и развитие,организаторские навыки,пользователь пк,грамотная речь,детская психология,адаптация,общая психология,диагностика,английский язык,ms powerpoint,работа с большим объемом информации,пользователь пк,английский язык,ms powerpoint,работа с большим объемом информации,пользователь пк,психодиагностика,ms powerpoint,возрастная психология,обучение и развитие,психология,педагог-психолог,социальная психология,общая психология,психология личности,диагностика,ведение документации,грамотная речь,педагогическое образование,методики развития,няня,гувернантка,профессионализм,ответственность,дисциплинированность,направленность на результат,стрессоустойчивость,обучение и развитие,умение работать в команде,узи органов брюшной полости,узи почек и забрюшинного пространства,узи щитовидной железы, слюных желёз,узи молочных желёз,узи мягких тканей в т.ч. при повреждении сухожильно-связанного аппарата,узи лимфатических узлов,узи органов малого таза у мужчин и женщин,узи сосудов конечностей,узи бца (экстракраниальных отд.) сосудов шеи,узи навигация при пункции,узи органов мошонки,групповое обучение,дистанционное обучение,проведение презентаций,проведение тренинга для новых сотрудников,работа в команде,проведение тренингов,навыки презентации,тренинги,организаторские навыки,подготовка презентаций,обучение персонала,обучение и развитие,аттестация персонала,грамотная речь,дистанционное обучение,групповое обучение,организаторские навыки,организация учебного процесса,розничная торговля,грамотность,разработка инструкций,английский язык,дистанционное обучение,работа в команде,организация учебного процесса,организация учебного процесса,пользователь пк,детская психология,грамотная речь,грамотность,коммуникативные навыки,грамотная речь,грамотность,пользователь пк,английский язык,умение работать в команде,творческое мышление,общая психология,english,preschool teacher,teaching efl,childcare,управление проектами,стратегический менеджмент,креативность,управленческие навыки,стратегическое мышление,английский язык,работа в команде,организация учебного процесса,английский язык,деловая коммуникация,навыки межличностного общения,организация учебного процесса,пользователь пк,грамотная речь,навыки межличностного общения,диагностика,общая психология,возрастная психология,организация учебного процесса,общая психология,тренинги,обучение и развитие,дистанционное обучение,проведение семинаров,обучение руководителей,soft-skills,грамотная речь,оформление документации,навыки межличностного общения,умение работать в команде,оформление заказов,английский язык,детская психология,возрастная психология,организаторские навыки,организация мероприятий,дистанционное обучение,работа в команде,организация учебного процесса,дистанционное обучение,работа в команде,организация учебного процесса,дистанционное обучение,работа в команде,организация учебного процесса,• преимущество у кандидатов своего материала по обучению (разработанные программы и презентации),обучение и развитие,проведение презентаций,креативность,работа в команде,дистанционное обучение,английский язык,организация учебного процесса,точность и внимательность к деталям,организация учебного процесса,организация мероприятий,ms powerpoint,обучение и развитие,умение работать в коллективе,грамотная речь,способность обучать других,испанский язык,грамотная речь,грамотность,навыки межличностного общения,знание методик преподавания,преподавание русского языка,обучение и развитие,проведение презентаций,креативность,работа в команде,дистанционное обучение,организация учебного процесса,организация мероприятий,ms powerpoint,обучение и развитие,организаторские навыки,обучение и развитие,проведение презентаций,креативность,работа в команде,дистанционное обучение,обучение и развитие,обучение персонала,организация учебного процесса,обучение и развитие,проведение презентаций,креативность,работа в команде,дистанционное обучение,грамотная речь,грамотность,ms paint,оформление документации,javascript,css,html5,обучение и развитие,1с: предприятие 8,1c: бухгалтерия,обучение и развитие,дистанционное обучение,1с программирование,1с-битрикс,написание научный статей,организаторские навыки,пользователь пк,эпидемиология,инфекциология,навыки межличностного общения,умение работать в команде,работа в команде,работа с большим объемом информации,react,javascript,redux,typescript,организация учебного процесса,преподавание русского языка,детская психология,английский язык,возрастная психология,работа в команде,пользователь пк,пользователь пк,научные исследования,обучение и развитие,охрана труда и техника безопасности,работа с большим объемом информации,пользователь пк,грамотная речь,электронный документооборот,проектная документация,организация учебного процесса,грамотность,английский язык,ms powerpoint,работа с большим объемом информации,пользователь пк,детская психология,возрастная психология,общая психология,психология личности,обучение и развитие,знание детской психологии и физиологии(дошкольной),умение работать с детьми дошкольниками иностранцами,go,json/yml,rest api,http,программирование на языке go,английский язык,ms powerpoint,работа с большим объемом информации,пользователь пк,психокоррекционная работа,социальная психология,навыки межличностного общения,возрастная психология,обучение и развитие,грамотная речь,деловое общение,обучение и развитие,навыки межличностного общения,грамотность,ms access,организация учебного процесса,планирование,администрирование,математическое моделирование,organization skills,планирование,project management,ms powerpoint,английский язык,обучение персонала,английский язык,обучение и развитие,организация учебного процесса,организация мероприятий,организаторские навыки,навыки межличностного общения,работа с документами,тренинги,обучение персонала,обучение и развитие,групповое обучение,разработка и внедрение политик и процедур,управление бизнес процессами,организация учебного процесса,английский язык,английский язык,presentation skills,teamplayer,celta,continuous professional development,организация учебного процесса,преподавание русского языка,детская психология,обучение и развитие,английский язык,организация мероприятий,грамотная речь,тренинги,грамотная речь,консультирование,подготовка презентаций,составление договоров,медицинское оборудование,ms publisher,возрастная психология,ведение отчетности,тренинги,практическая психология,социальная педагогика,специальная педагогика,обучение и развитие,проведение презентаций,креативность,работа в команде,дистанционное обучение,английский язык,английский язык,грамотная речь,организаторские навыки,пользователь пк,грамотность,коммуникабельность,пользователь пк,работа в команде,мобильность,работа с большим объемом информации,деловое общение,дистанционное обучение,веб-программирование,postgresql,знание английского языка на уровне носителя,английский язык,presentation skills,business english,немецкий язык,английский язык,пользователь пк,грамотность,навыки межличностного общения,английский язык,деловая коммуникация,письменный перевод,последовательный перевод,устный перевод,технический перевод,английский язык,испанский язык,грамотность,работа в команде,грамотная речь,знание иностранных языков,дистанционное обучение,индивидуальное обучение,умение работать в коллективе,корпоративная этика,английский язык,обучение и развитие,учитель школы,госпитальный педагог,педагог-психолог,психокоррекционная работа,детская психология,психология,обучение и развитие,учитель школы,госпитальный педагог,дошкольное образование,подбор персонала,рекрутмент,пользователь пк,грамотная речь,электронный документооборот,проектная документация,организация учебного процесса,грамотность,вокал,грамотная речь,деловое общение,работа в команде,ориентация на результат,навыки межличностного общения,английский язык,активные продажи,прямые продажи,ведение переговоров,организация учебного процесса,творческое мышление,работа с документами,ms movie maker,точность и внимательность к деталям,python,sql,математическая статистика,data mining,математический анализ,бизнес-анализ,математическое моделирование,аналитические исследования,базы данных,аналитическое мышление,статистический анализ,работа с большим объемом информации,общая психология,ms movie maker,turbo pascal,эффективность в обучении детей с ментальными нарушениями, нацеленность на результат.',\n",
              " 'between3And6 nan': '',\n",
              " 'noExperience project': 'английский язык,организаторские навыки,грамотная речь,дистанционное обучение,публичные выступления,грамотность',\n",
              " 'noExperience part': 'arduino,пайка,работа с детьми,diy,инженерные системы,схемотехника электронного оборудования,организация учебного процесса,групповое обучение,проектирование,пользователь пк,грамотная речь,грамотность,общая психология,английский язык,пользователь пк,грамотная речь,дистанционное обучение,проведение презентаций,организация учебного процесса,ms powerpoint,электронный документооборот,групповое обучение,консультирование,навыки презентации,подготовка презентаций,продажи через интернет,творческое мышление,точность и внимательность к деталям,грамотная речь,обучение и развитие,грамотность,пользователь пк,навыки межличностного общения,общая психология,internet,знание иностранных языков,индивидуальное обучение,способность обучать других,репетитор,обучение персонала,машинное обучение,электронное обучение,английский язык,дополнительное образование,пользователь пк,документальное сопровождение,ведение отчетности,консультирование клиентов,ms paint,грамотная речь,пользователь пк,грамотность,обучение и развитие,групповое обучение,ms publisher,пользователь пк,обучение и развитие,грамотная речь,грамотность,организация учебного процесса,индивидуальное обучение,способность обучать других,пользователь пк,навыки межличностного общения,групповое обучение,умение работать в команде,управление временем,грамотная речь,обучение и развитие,английский язык,корпоративное обучение,грамотная речь,деловая коммуникация,грамотность,владение предметом,консультирование,умение работать в команде,навыки межличностного общения,работа с людьми,любовь к детям, доброжелательность, оптимизм, энергичность, эмоциональность,дистанционное обучение,грамотная речь,работа в команде,грамотность,навыки межличностного общения,пользователь пк,грамотная речь,поиск информации в интернет,организация учебного процесса,ms expert,ms publisher,рисунок,фотография,креативность,живопись,организаторские навыки,грамотная речь,дистанционное обучение,деловое общение,электронная почта,работа в команде,грамотная речь,гибкость,точность и внимательность к деталям,python,c++,arduino,дистанционное обучение,проведение презентаций,организация учебного процесса,ms powerpoint,электронный документооборот,групповое обучение,консультирование,навыки презентации,подготовка презентаций,продажи через интернет,творческое мышление,точность и внимательность к деталям,грамотная речь,обучение и развитие,грамотность,пользователь пк,навыки межличностного общения,общая психология,internet,знание иностранных языков,индивидуальное обучение,способность обучать других,репетитор,обучение персонала,машинное обучение,электронное обучение,английский язык,дополнительное образование,дистанционное обучение,грамотная речь,электронная почта,деловое общение,работа в команде,обучение и развитие,грамотная речь,егэ,огэ,онлайн преподавание,репетитор,zoom,обучение и развитие,грамотная речь,егэ,огэ,онлайн преподавание,репетитор,zoom,работа в команде,работа с возражениями,коммуникативные навыки,грамотная речь,пользователь пк,прямые продажи,проведение презентаций,дистанционное обучение,грамотная речь,работа в команде,творческое мышление,телевидение,python,c++,arduino,подготовка презентаций,организация учебного процесса,грамотная речь,групповое обучение,навыки презентации,грамотная речь,дистанционное обучение,деловое общение,электронная почта,работа в команде,обучение и развитие,умение работать в команде,навыки межличностного общения,групповое обучение,индивидуальное обучение,документальное сопровождение,ведение отчетности,электронная почта,английский язык,работа с большим объемом информации,грамотность,грамотная речь,творческое мышление,умение работать в коллективе,английский язык,первичные документы,грамотность,английский язык,немецкий язык,грамотность,английский язык,творческое мышление,грамотная речь,организаторские навыки,работа в команде,навыки межличностного общения,пользователь пк,грамотность,работа с людьми,грамотная речь,работа в команде,организаторские навыки,работа в команде,организация учебного процесса,спортивные мероприятия,python,javascript,c++,c#,java,ооп,django framework,html,linux,администрирование серверов linux,администрирование серверов windows,управление проектами,jquery,компьютерные курсы,it-технологии,веб-программирование,.net framework,информатика,вычислительная техника,компьютерная безопасность,borland delphi,css,ansi c++,ruby,angularjs,промышленное программирование,робототехника,английский язык,грамотная речь,грамотность,педагог,педагогика,обучение детей,обучение школьников,adobe illustrator,adobe after effect,adobe design,adobe photoshop,coreldraw,adobe indesign,html,css,3ds max,javascript,дизайн,web-дизайн,java,графический дизайн,adobe premier,стажер,згт,защита государственной тайны,нмд фсб,python,работа в команде,обучение и развитие,организация учебного процесса,английский язык,итальянский язык,работа в команде,организация учебного процесса,ориентация на результат,формирование управленческой отчетности,public speaking,анализ продаж,ориентация на клиента,мониторинг цен,работа в команде,обучение и развитие,организация учебного процесса,python,английский язык,творческое мышление,пользователь пк,умение работать в коллективе,деловое общение,грамотная речь,грамотность,возрастная психология,детская психология,общая психология,организаторские навыки,работа в команде,присмотр за детьми,teambuilding,пользователь пк,английский язык,уметь играть с детьми,актерское мастерство,обучаемость,креативность,физкультурное образование,педагогическое образование,лфк,афк,тренер по плаванию,пользователь пк,turbo pascal,google docs,грамотная речь,аквагрим,плетение кос,творчество,визаж,гример,художник,грим,c#,компьютерные курсы,c++,css,веб-программирование,blender 3d,html,minecraft,adobe photoshop,it-технологии,scratch,unity,javascript,информатика,python,php,монтаж видео,adobe premier pro,видеомонтаж,adobe after effect,adobe premier pro,фотография,пейзажная фотография,студийная фотосъемка,видеосъемка,групповое обучение,adobe premier,обработка видео,интерьерная фотография,ретушь,постановочная фотография,репортажная фотосъемка,тренинги,обучение и развитие,грамотная речь,навыки межличностного общения,творческое мышление',\n",
              " 'noExperience full': 'креативность,грамотная речь,обучение и развитие,английский язык,грамотность,ориентация на результат,управление временем,ms powerpoint,грамотная речь,подготовка презентаций,пользователь пк,грамотность,детская психология,организаторские навыки,грамотная речь,преподавание онлайн,возрастная психология,ответственность,коммуникабельность,организаторские навыки,обучение и развитие,работа в команде,грамотная речь,любовь к детям,adobe photoshop,web-дизайн,веб-программирование,веб-дизайн,работа в команде,деловое общение,обучение и развитие,html,javascript,создание сайтов,3d моделирование,python junior,arduino,робототехника,youtube,психолог,организаторские навыки,обучение и развитие,организационные навыки,работа в команде,общая психология,грамотная речь,английский язык,обучение и развитие,пользователь пк,грамотная речь,работа в команде,креативность,обучение и развитие,деловая коммуникация,грамотность,детская психология,управление талантами,организаторские навыки,активность,стрессоустойчивость,любовь к детям,коммуникабельность,энтузиазм,высокая работоспособность,оптимизм,грамотная речь,ответственность,пунктуальность,решительность,организаторские навыки,креативность,активность,стрессоустойчивость,любовь к детям,коммуникабельность,энтузиазм,высокая работоспособность,оптимизм,грамотная речь,ответственность,пунктуальность,решительность,организаторские навыки,креативность,английский язык,дошкольное образование,работа в команде,креативность,работа в детском саду,творческое мышление,детская психология,обучение и развитие,психология,грамотная речь,социальная психология,доброжелательность, аккуратность, внимательность,английский язык,английский - b2 - средне - продвинутый,работа в команде,многозадачность,работа с дошкольниками,детский сад,организация учебного процесса,присмотр за детьми,английский язык,деловая коммуникация,time management,пользователь пк,организация учебного процесса,диагностика,творческое мышление,ms publisher,пользователь пк,ms publisher,пользователь пк,умение работать в коллективе,танцы,работа в команде,ответственность,доброжелательность,коммуникабельность,живопись,масляная живопись,графика,декоративная живопись,английский язык,грамотная речь,креативность,возрастная психология,тренинги,грамотная речь,психологическое консультирование,работа в команде,креативность,грамотность,детская психология,творческое мышление,работа с людьми,работа в команде,детская психология,детская психология,организаторские навыки,грамотная речь,преподавание онлайн,возрастная психология,французский язык,умение работать в коллективе,грамотная речь,работа в команде,грамотность,креативность,обучение и развитие,навыки межличностного общения,ориентация на результат,английский язык,добросовестность,доброжелательность,желание учиться,овладевать навыками,грамотная речь,работа в команде,креативность,организация мероприятий,teamleading,английский язык,поиск информации в интернет,математический анализ,python,английский язык,обучение и развитие,разработка технических заданий,тренинги,креативность,грамотная речь,работа с большим объемом информации,грамотность,навыки межличностного общения,английский язык,обучение персонала,тренинги,управление персоналом,обучение и развитие,работа в команде,css,html,обучение и развитие,дистанционное обучение,проведение опросов,грамотная речь,пользователь пк,грамотность,работа в команде,французский язык,творческое мышление,многозадачность,умение работать в команде,практическая психология,исполнительность,аккуратность,расстановка приоритетов,грамотная речь,работа в команде,обучение и развитие,деловое общение,adobe photoshop,веб-дизайн,3d моделирование,arduino,робототехника,python junior,youtube,создание сайтов,html,javascript',\n",
              " 'noExperience nan': '',\n",
              " 'moreThan6 project': 'проведение презентаций,подготовка презентаций,навыки презентации,организаторские навыки,грамотность,пользователь пк,проведение ревизий,водительское удостоверение категории b,бумажный документооборот,охрана труда и техника безопасности,строительство,малоэтажное строительство,ms paint,строительное делопроизводство,способность обучать других,строительно-отделочные работы,организация внешнего обучения,python',\n",
              " 'moreThan6 part': 'танцы,фитнес,ответственность,грамотная речь,доброжелательность,хореография,английский язык,обучение и развитие,тренинги,ответственность,грамотная речь,доброжелательность,вокал,английский язык,креативность,организация мероприятий,детская психология,обучение и развитие,дистанционное обучение,обучение и развитие,дистанционное обучение,1с: бухгалтерия,бухгалтерская отчетность,бухгалтерский учет,аттестат профессионального бухгалтера,английский язык,ориентация на клиента,работа в команде,пользователь пк,фитнес,обучение и развитие,дистанционное обучение,дистанционное обучение,тренерская деятельность,соревновательная деятельность,фитнес,обучение и развитие,дистанционное обучение,дистанционное обучение,обучение и развитие,организация учебного процесса,бухгалтерский учет,грамотная речь,публичные выступления,налоговая отчетность,1c: бухгалтерия,налоговое законодательство,первичная бухгалтерская документация',\n",
              " 'moreThan6 full': 'обучение и развитие,общая психология,грамотность,математический анализ,математическая статистика,грамотная речь,работа в команде,организаторские навыки,ориентация на результат,грамотность,навыки презентации,управленческие навыки,пользователь пк,проведение ревизий,бумажный документооборот,умение работать в команде,грамотность,инициативность,лидерские качества,коммуникабельность,креативность,грамотная речь,организаторские навыки,компьютерная грамотность,коммуникабельность,ответственность,организаторские навыки,грамотная речь,пользователь пк,ориентация на результат,креативность,грамотность,обучение и развитие,организация мероприятий,работа в команде,организация семинаров,обучение и развитие,организация мероприятий,организация учебного процесса,организаторские навыки,деловая коммуникация,обучение и развитие,деловая коммуникация,организация учебного процесса,групповое обучение,грамотная речь,творческое мышление,пользователь пк,работа в команде,общая психология,консультирование,работа в команде,грамотная речь,возрастная психология,ms powerpoint,обучение и развитие,грамотная речь,проведение презентаций,умение работать в команде,грамотная речь,написание текстов,подготовка презентаций,публичные выступления,проведение семинаров,техники продаж,организация презентаций,работа на выставках,организация семинаров,написание научный статей,ms powerpoint,энергетика,аналитическое мышление,системное мышление,проведение семинаров,дистанционное обучение,обучение и развитие,ms powerpoint,энергетика,обучение персонала,производственный персонал,деловая коммуникация,проведение семинаров,возрастная психология,психология,социальная психология,обучение и развитие,работа в команде,грамотная речь,деловая коммуникация,организация семинаров,грамотность,ведение документации,общая психология,работа с людьми,детская психология,возрастная психология,деловое общение,психология,обучение и развитие,грамотная речь,работа в команде,грамотность,оформление документации,пользователь пк,грамотная речь,грамотность,навыки межличностного общения,умение работать в команде,навыки межличностного общения,pascal,диагностика,symfony,ооп,php,детская психология,грамотная речь,креативность,работа в команде,проведение праздников,точность и внимательность к деталям,творческое мышление,обучение и развитие,робототехника,turbo pascal,работа с людьми,консультирование,навыки межличностного общения,грамотность,общая психология',\n",
              " 'moreThan6 nan': '',\n",
              " 'nan project': '',\n",
              " 'nan part': '',\n",
              " 'nan full': '',\n",
              " 'nan nan': ''}"
            ]
          },
          "metadata": {
            "tags": []
          },
          "execution_count": 4
        }
      ]
    },
    {
      "cell_type": "code",
      "metadata": {
        "id": "rT4Nk0qO47Cc"
      },
      "source": [
        "del skill_dict['nan nan']"
      ],
      "execution_count": null,
      "outputs": []
    },
    {
      "cell_type": "markdown",
      "metadata": {
        "id": "yF8EUkzj47Cd"
      },
      "source": [
        "А теперь я считала упоминания навыков в зависимости от графика и опыта. Для каждого создавался датасет, в котором есть навык и количество упоминаний этого навыка и из этого датасета создавался потом словарь, который добавлялся в один большой словарь. Только чтобы код заработал, нужно из словаря, который используется, удалить ключи с nan. "
      ]
    },
    {
      "cell_type": "code",
      "metadata": {
        "scrolled": false,
        "id": "MfRmBHi747Cd",
        "outputId": "8d9816ab-2081-4996-fe85-7dbce1568d28"
      },
      "source": [
        "end_dict = {}\n",
        "for schedule in skill_dict.keys():\n",
        "    work_lst = skill_dict[schedule]\n",
        "    common_skills = []\n",
        "    itemlst = work_lst.split(',')    \n",
        "    df_common_emp_skills = pd.DataFrame(itemlst)\n",
        "    series = df_common_emp_skills.groupby(0)[0].count().sort_values(ascending=False)\n",
        "    data = series.to_frame()\n",
        "    data1 = data.rename(columns={0:schedule})\n",
        "    frame_to_dict = data1.loc[data[0] > 3]\n",
        "    dict_from_frame = frame_to_dict.to_dict()\n",
        "    end_dict[schedule] = dict_from_frame[schedule]\n",
        "    \n",
        "end_dict"
      ],
      "execution_count": null,
      "outputs": [
        {
          "output_type": "execute_result",
          "data": {
            "text/plain": [
              "{'between1And3 project': {'грамотная речь': 4, 'организаторские навыки': 4},\n",
              " 'between1And3 part': {'обучение и развитие': 81,\n",
              "  'грамотная речь': 76,\n",
              "  'работа в команде': 50,\n",
              "  'английский язык': 46,\n",
              "  'организация учебного процесса': 43,\n",
              "  'грамотность': 40,\n",
              "  'пользователь пк': 37,\n",
              "  'организаторские навыки': 26,\n",
              "  'дистанционное обучение': 26,\n",
              "  'детская психология': 21,\n",
              "  'навыки межличностного общения': 21,\n",
              "  'умение работать в команде': 19,\n",
              "  'творческое мышление': 19,\n",
              "  'общая психология': 16,\n",
              "  'креативность': 14,\n",
              "  'индивидуальное обучение': 14,\n",
              "  'групповое обучение': 12,\n",
              "  'python': 9,\n",
              "  'деловая коммуникация': 9,\n",
              "  'windows xp': 9,\n",
              "  'c++': 8,\n",
              "  'работа с детьми': 8,\n",
              "  'коммуникабельность': 7,\n",
              "  'немецкий язык': 7,\n",
              "  'испанский язык': 6,\n",
              "  'веб-программирование': 6,\n",
              "  'ms paint': 6,\n",
              "  'вокал': 6,\n",
              "  'деловое общение': 6,\n",
              "  'javascript': 6,\n",
              "  'unity': 6,\n",
              "  'html': 5,\n",
              "  'ооп': 5,\n",
              "  'консультирование': 5,\n",
              "  'публичные выступления': 5,\n",
              "  'проведение презентаций': 5,\n",
              "  'работа с людьми': 5,\n",
              "  'ориентация на результат': 5,\n",
              "  'css': 5,\n",
              "  'точность и внимательность к деталям': 5,\n",
              "  'adobe photoshop': 5,\n",
              "  'возрастная психология': 5,\n",
              "  'ms outlook': 4,\n",
              "  'тренинги': 4,\n",
              "  'умение работать в коллективе': 4,\n",
              "  'математика': 4,\n",
              "  'навыки презентации': 4,\n",
              "  'французский язык': 4,\n",
              "  'итальянский язык': 4,\n",
              "  'ведение переписки на иностранном языке': 4,\n",
              "  'репетитор': 4,\n",
              "  'учитель': 4,\n",
              "  'ответственность': 4,\n",
              "  'доброжелательность': 4},\n",
              " 'between1And3 full': {'грамотная речь': 66,\n",
              "  'обучение и развитие': 58,\n",
              "  'работа в команде': 41,\n",
              "  'английский язык': 38,\n",
              "  'организаторские навыки': 29,\n",
              "  'грамотность': 27,\n",
              "  'пользователь пк': 23,\n",
              "  'организация учебного процесса': 23,\n",
              "  'детская психология': 18,\n",
              "  'ms powerpoint': 15,\n",
              "  'креативность': 13,\n",
              "  'навыки межличностного общения': 12,\n",
              "  'общая психология': 12,\n",
              "  'ответственность': 11,\n",
              "  'индивидуальное обучение': 10,\n",
              "  'творческое мышление': 10,\n",
              "  'деловая коммуникация': 10,\n",
              "  'ориентация на результат': 10,\n",
              "  'дистанционное обучение': 9,\n",
              "  'умение работать в команде': 9,\n",
              "  'психология': 7,\n",
              "  'организация мероприятий': 6,\n",
              "  'работа с людьми': 6,\n",
              "  'возрастная психология': 6,\n",
              "  'коммуникабельность': 6,\n",
              "  'проведение презентаций': 5,\n",
              "  'знание иностранных языков': 5,\n",
              "  'навыки презентации': 5,\n",
              "  'групповое обучение': 5,\n",
              "  'точность и внимательность к деталям': 4,\n",
              "  'любовь к детям': 4,\n",
              "  'работа с большим объемом информации': 4,\n",
              "  'консультирование': 4,\n",
              "  'умение работать в коллективе': 4},\n",
              " 'between1And3 nan': {},\n",
              " 'between3And6 project': {'обучение и развитие': 4},\n",
              " 'between3And6 part': {'грамотная речь': 28,\n",
              "  'грамотность': 19,\n",
              "  'обучение и развитие': 15,\n",
              "  'организаторские навыки': 14,\n",
              "  'английский язык': 13,\n",
              "  'работа в команде': 13,\n",
              "  'организация учебного процесса': 12,\n",
              "  'пользователь пк': 11,\n",
              "  'общая психология': 9,\n",
              "  'навыки межличностного общения': 8,\n",
              "  'детская психология': 8,\n",
              "  'творческое мышление': 7,\n",
              "  'дистанционное обучение': 6,\n",
              "  'креативность': 6,\n",
              "  'ответственность': 6,\n",
              "  'умение работать в коллективе': 6,\n",
              "  'деловая коммуникация': 5,\n",
              "  'пунктуальность': 5,\n",
              "  'фстэк': 4,\n",
              "  'коммуникабельность': 4},\n",
              " 'between3And6 full': {'обучение и развитие': 42,\n",
              "  'работа в команде': 41,\n",
              "  'грамотная речь': 37,\n",
              "  'английский язык': 37,\n",
              "  'организация учебного процесса': 36,\n",
              "  'дистанционное обучение': 28,\n",
              "  'пользователь пк': 27,\n",
              "  'грамотность': 23,\n",
              "  'организаторские навыки': 17,\n",
              "  'ms powerpoint': 13,\n",
              "  'навыки межличностного общения': 12,\n",
              "  'детская психология': 11,\n",
              "  'общая психология': 11,\n",
              "  'работа с большим объемом информации': 10,\n",
              "  'креативность': 10,\n",
              "  'организация мероприятий': 9,\n",
              "  'возрастная психология': 9,\n",
              "  'проведение презентаций': 9,\n",
              "  'умение работать в команде': 7,\n",
              "  'тренинги': 7,\n",
              "  'ориентация на результат': 7,\n",
              "  'деловая коммуникация': 6,\n",
              "  'индивидуальное обучение': 5,\n",
              "  'творческое мышление': 5,\n",
              "  'коммуникабельность': 5,\n",
              "  'подготовка презентаций': 4,\n",
              "  'обучение персонала': 4,\n",
              "  'групповое обучение': 4},\n",
              " 'between3And6 nan': {},\n",
              " 'noExperience project': {},\n",
              " 'noExperience part': {'грамотная речь': 26,\n",
              "  'пользователь пк': 14,\n",
              "  'работа в команде': 13,\n",
              "  'грамотность': 13,\n",
              "  'английский язык': 12,\n",
              "  'обучение и развитие': 11,\n",
              "  'организация учебного процесса': 10,\n",
              "  'навыки межличностного общения': 8,\n",
              "  'групповое обучение': 8,\n",
              "  'дистанционное обучение': 7,\n",
              "  'творческое мышление': 7,\n",
              "  'python': 6,\n",
              "  'репетитор': 4,\n",
              "  'c++': 4,\n",
              "  'деловое общение': 4,\n",
              "  'индивидуальное обучение': 4,\n",
              "  'электронная почта': 4,\n",
              "  'организаторские навыки': 4,\n",
              "  'общая психология': 4},\n",
              " 'noExperience full': {'грамотная речь': 17,\n",
              "  'работа в команде': 14,\n",
              "  'обучение и развитие': 12,\n",
              "  'английский язык': 10,\n",
              "  'креативность': 10,\n",
              "  'организаторские навыки': 7,\n",
              "  'грамотность': 7,\n",
              "  'пользователь пк': 6,\n",
              "  'детская психология': 6,\n",
              "  'коммуникабельность': 4,\n",
              "  'ответственность': 4,\n",
              "  'творческое мышление': 4},\n",
              " 'noExperience nan': {},\n",
              " 'moreThan6 project': {},\n",
              " 'moreThan6 part': {'обучение и развитие': 6, 'дистанционное обучение': 6},\n",
              " 'moreThan6 full': {'грамотная речь': 11,\n",
              "  'обучение и развитие': 9,\n",
              "  'грамотность': 8,\n",
              "  'работа в команде': 7,\n",
              "  'пользователь пк': 4,\n",
              "  'деловая коммуникация': 4,\n",
              "  'организаторские навыки': 4,\n",
              "  'общая психология': 4}}"
            ]
          },
          "metadata": {
            "tags": []
          },
          "execution_count": 44
        }
      ]
    },
    {
      "cell_type": "markdown",
      "metadata": {
        "id": "I6MjkaJH47Cd"
      },
      "source": [
        "А дальше я попробовала посчитать иначе, с помощью регулярных выражений, но получилось не очень удачно, но для практики пусть будет. "
      ]
    },
    {
      "cell_type": "code",
      "metadata": {
        "id": "1nFDhPpG47Cd",
        "outputId": "d663c10b-e2cd-4d92-e2fc-ef97090905ba"
      },
      "source": [
        "dfskills = pd.DataFrame(skill_dict, index=[0])\n",
        "columns = dfskills.columns\n",
        "rows = dfskills.loc[0].values\n",
        "skillsFrame = pd.DataFrame({'experience' : columns, 'skills' : rows})\n",
        "skillsFrame['skills'].replace('', np.nan, inplace=True)\n",
        "skills = skillsFrame.dropna()\n",
        "skills\n"
      ],
      "execution_count": null,
      "outputs": [
        {
          "output_type": "execute_result",
          "data": {
            "text/html": [
              "<div>\n",
              "<style scoped>\n",
              "    .dataframe tbody tr th:only-of-type {\n",
              "        vertical-align: middle;\n",
              "    }\n",
              "\n",
              "    .dataframe tbody tr th {\n",
              "        vertical-align: top;\n",
              "    }\n",
              "\n",
              "    .dataframe thead th {\n",
              "        text-align: right;\n",
              "    }\n",
              "</style>\n",
              "<table border=\"1\" class=\"dataframe\">\n",
              "  <thead>\n",
              "    <tr style=\"text-align: right;\">\n",
              "      <th></th>\n",
              "      <th>experience</th>\n",
              "      <th>skills</th>\n",
              "    </tr>\n",
              "  </thead>\n",
              "  <tbody>\n",
              "    <tr>\n",
              "      <th>0</th>\n",
              "      <td>between1And3 project</td>\n",
              "      <td>возрастная психология,детская психология,клини...</td>\n",
              "    </tr>\n",
              "    <tr>\n",
              "      <th>1</th>\n",
              "      <td>between1And3 part</td>\n",
              "      <td>работа с детьми,обучение и развитие,музыкант,г...</td>\n",
              "    </tr>\n",
              "    <tr>\n",
              "      <th>2</th>\n",
              "      <td>between1And3 full</td>\n",
              "      <td>грамотная речь,учредительные документы,произво...</td>\n",
              "    </tr>\n",
              "    <tr>\n",
              "      <th>4</th>\n",
              "      <td>between3And6 project</td>\n",
              "      <td>data science,python,ms sql,sql,autodesk maya,a...</td>\n",
              "    </tr>\n",
              "    <tr>\n",
              "      <th>5</th>\n",
              "      <td>between3And6 part</td>\n",
              "      <td>дистанционное обучение,работа в команде,органи...</td>\n",
              "    </tr>\n",
              "    <tr>\n",
              "      <th>6</th>\n",
              "      <td>between3And6 full</td>\n",
              "      <td>дистанционное обучение,работа в команде,органи...</td>\n",
              "    </tr>\n",
              "    <tr>\n",
              "      <th>8</th>\n",
              "      <td>noExperience project</td>\n",
              "      <td>английский язык,организаторские навыки,грамотн...</td>\n",
              "    </tr>\n",
              "    <tr>\n",
              "      <th>9</th>\n",
              "      <td>noExperience part</td>\n",
              "      <td>arduino,пайка,работа с детьми,diy,инженерные с...</td>\n",
              "    </tr>\n",
              "    <tr>\n",
              "      <th>10</th>\n",
              "      <td>noExperience full</td>\n",
              "      <td>креативность,грамотная речь,обучение и развити...</td>\n",
              "    </tr>\n",
              "    <tr>\n",
              "      <th>12</th>\n",
              "      <td>moreThan6 project</td>\n",
              "      <td>проведение презентаций,подготовка презентаций,...</td>\n",
              "    </tr>\n",
              "    <tr>\n",
              "      <th>13</th>\n",
              "      <td>moreThan6 part</td>\n",
              "      <td>танцы,фитнес,ответственность,грамотная речь,до...</td>\n",
              "    </tr>\n",
              "    <tr>\n",
              "      <th>14</th>\n",
              "      <td>moreThan6 full</td>\n",
              "      <td>обучение и развитие,общая психология,грамотнос...</td>\n",
              "    </tr>\n",
              "  </tbody>\n",
              "</table>\n",
              "</div>"
            ],
            "text/plain": [
              "              experience                                             skills\n",
              "0   between1And3 project  возрастная психология,детская психология,клини...\n",
              "1      between1And3 part  работа с детьми,обучение и развитие,музыкант,г...\n",
              "2      between1And3 full  грамотная речь,учредительные документы,произво...\n",
              "4   between3And6 project  data science,python,ms sql,sql,autodesk maya,a...\n",
              "5      between3And6 part  дистанционное обучение,работа в команде,органи...\n",
              "6      between3And6 full  дистанционное обучение,работа в команде,органи...\n",
              "8   noExperience project  английский язык,организаторские навыки,грамотн...\n",
              "9      noExperience part  arduino,пайка,работа с детьми,diy,инженерные с...\n",
              "10     noExperience full  креативность,грамотная речь,обучение и развити...\n",
              "12     moreThan6 project  проведение презентаций,подготовка презентаций,...\n",
              "13        moreThan6 part  танцы,фитнес,ответственность,грамотная речь,до...\n",
              "14        moreThan6 full  обучение и развитие,общая психология,грамотнос..."
            ]
          },
          "metadata": {
            "tags": []
          },
          "execution_count": 6
        }
      ]
    },
    {
      "cell_type": "code",
      "metadata": {
        "scrolled": false,
        "id": "GgMCpXck47Ce"
      },
      "source": [
        "skillsword = [] #здесь я делала просто список всех-всех слов, которые встречаются в навыках, чтобы их поместь в датафрейм в виде\n",
        "#индекса и потом посчитать количество тех или иных слов в зависимости от графика и опыта. \n",
        "for n in list(skills.index): \n",
        "    experimentStr = skills.loc[n, 'skills']\n",
        "    reg_expr = r'\\w{3,15}'\n",
        "    reg_expr_compiled = re.compile(reg_expr)\n",
        "    res = reg_expr_compiled.findall(experimentStr)\n",
        "    for word in res:\n",
        "        if word not in skillsword:\n",
        "            skillsword.append(word) "
      ],
      "execution_count": null,
      "outputs": []
    },
    {
      "cell_type": "code",
      "metadata": {
        "scrolled": true,
        "id": "7C-Khy_a47Ce"
      },
      "source": [
        "datadf = pd.DataFrame({'words' : skillsword})\n",
        "for n in list(skills.index): \n",
        "    datadf[skills.loc[n, 'experience']] = 0\n",
        "    experimentStr = skills.loc[n, 'skills']\n",
        "    reg_expr = r'\\w{3,15}'\n",
        "    reg_expr_compiled = re.compile(reg_expr)\n",
        "    wordExpSch = reg_expr_compiled.findall(experimentStr)\n",
        "    dfWords = pd.DataFrame({'words' : wordExpSch})\n",
        "    dfWords[skills.loc[n, 'experience']] = 1\n",
        "    to_add = dfWords.groupby('words').count().reset_index()\n",
        "    datadf[skills.loc[n, 'experience']] = to_add[skills.loc[n, 'experience']]\n",
        "    \n",
        "datadf.set_index('words', inplace=True)"
      ],
      "execution_count": null,
      "outputs": []
    },
    {
      "cell_type": "code",
      "metadata": {
        "scrolled": true,
        "id": "zUjw_-9H47Ce",
        "outputId": "ed18e356-6ba1-418c-a892-de066ff0c58f"
      },
      "source": [
        "lst_sort = list(datadf.columns)\n",
        "lst_sort.pop(0)\n",
        "lst_sort"
      ],
      "execution_count": null,
      "outputs": [
        {
          "output_type": "execute_result",
          "data": {
            "text/plain": [
              "['between1And3 part',\n",
              " 'between1And3 full',\n",
              " 'between3And6 project',\n",
              " 'between3And6 part',\n",
              " 'between3And6 full',\n",
              " 'noExperience project',\n",
              " 'noExperience part',\n",
              " 'noExperience full',\n",
              " 'moreThan6 project',\n",
              " 'moreThan6 part',\n",
              " 'moreThan6 full']"
            ]
          },
          "metadata": {
            "tags": []
          },
          "execution_count": 9
        }
      ]
    },
    {
      "cell_type": "code",
      "metadata": {
        "scrolled": true,
        "id": "JITZKLBk47Ce"
      },
      "source": [
        "datadf_sorted = datadf.sort_values(by=list(datadf.columns), ascending=False) "
      ],
      "execution_count": null,
      "outputs": []
    },
    {
      "cell_type": "code",
      "metadata": {
        "id": "1luDB8dJ47Cf"
      },
      "source": [
        "columns = list(datadf.columns)"
      ],
      "execution_count": null,
      "outputs": []
    },
    {
      "cell_type": "code",
      "metadata": {
        "id": "NxvaVr2R47Cf"
      },
      "source": [
        "bigValues = datadf.loc[(datadf['between1And3 project'] > 5) | (datadf['between1And3 part'] > 5) | (datadf['between1And3 full'] > 5) | (datadf['between3And6 project'] > 5) | (datadf['between3And6 part'] > 5) | (datadf['between3And6 full'] > 5) | (datadf['noExperience project'] > 5) | (datadf['noExperience part'] > 5) | (datadf['noExperience full'] > 5) | (datadf['moreThan6 project'] > 5) | (datadf['moreThan6 part'] > 5) | (datadf['moreThan6 full'] > 5)]\n",
        "values_sorted = bigValues.sort_values(by=list(bigValues.columns), ascending=False) "
      ],
      "execution_count": null,
      "outputs": []
    },
    {
      "cell_type": "code",
      "metadata": {
        "id": "V3mv2byK47Cf"
      },
      "source": [
        "for column in range(len(list(datadf.columns))):\n",
        "    values_sorted = datadf.sort_values(by=datadf.columns[column], ascending=False) \n",
        "    data = values_sorted.iloc[0:40, column]\n",
        "    filename = 'data' + str(column) +'.csv'\n",
        "    data.to_csv(filename, sep=';', encoding='utf-8-sig')\n",
        "\n",
        "#why utf-8-sig: https://stackoverflow.com/questions/25788037/pandas-df-to-csvfile-csv-encode-utf-8-still-gives-trash-characters-for-min/43684587 \n"
      ],
      "execution_count": null,
      "outputs": []
    },
    {
      "cell_type": "code",
      "metadata": {
        "id": "xn2yEd2W47Cf"
      },
      "source": [
        ""
      ],
      "execution_count": null,
      "outputs": []
    }
  ]
}